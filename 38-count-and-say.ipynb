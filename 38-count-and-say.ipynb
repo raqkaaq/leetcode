{
 "cells": [
  {
   "cell_type": "markdown",
   "metadata": {},
   "source": [
    "### 38. Count and Say\n",
    "Medium\n",
    "\n",
    "Hint\n",
    "The count-and-say sequence is a sequence of digit strings defined by the recursive formula:\n",
    "\n",
    "countAndSay(1) = \"1\"\n",
    "countAndSay(n) is the run-length encoding of countAndSay(n - 1).\n",
    "Run-length encoding (RLE) is a string compression method that works by replacing consecutive identical characters (repeated 2 or more times) with the concatenation of the character and the number marking the count of the characters (length of the run). For example, to compress the string \"3322251\" we replace \"33\" with \"23\", replace \"222\" with \"32\", replace \"5\" with \"15\" and replace \"1\" with \"11\". Thus the compressed string becomes \"23321511\".\n",
    "\n",
    "Given a positive integer n, return the nth element of the count-and-say sequence.\n",
    "\n",
    " \n",
    "\n",
    "Example 1:\n",
    "\n",
    "Input: n = 4\n",
    "\n",
    "Output: \"1211\"\n",
    "\n",
    "Explanation:\n",
    "\n",
    "countAndSay(1) = \"1\"\n",
    "countAndSay(2) = RLE of \"1\" = \"11\"\n",
    "countAndSay(3) = RLE of \"11\" = \"21\"\n",
    "countAndSay(4) = RLE of \"21\" = \"1211\"\n",
    "Example 2:\n",
    "\n",
    "Input: n = 1\n",
    "\n",
    "Output: \"1\"\n",
    "\n",
    "Explanation:\n",
    "\n",
    "This is the base case.\n",
    "\n",
    " \n",
    "\n",
    "Constraints:\n",
    "\n",
    "1 <= n <= 30\n",
    " \n",
    "\n",
    "Follow up: Could you solve it iteratively?"
   ]
  },
  {
   "cell_type": "code",
   "execution_count": 76,
   "metadata": {},
   "outputs": [],
   "source": [
    "#basically fibonacci\n",
    "class Solution:\n",
    "    def countAndSay(self, n: int) -> str:\n",
    "        def RLE(s):\n",
    "            curr_char = s[0]\n",
    "            ans = []\n",
    "            count = 0\n",
    "            for char in s:\n",
    "                if char == curr_char:\n",
    "                    count += 1\n",
    "                else:\n",
    "                    ans.append(str(count))\n",
    "                    ans.append(curr_char)\n",
    "                    count = 1\n",
    "                    curr_char = char\n",
    "            ans.append(str(count))\n",
    "            ans.append(curr_char)\n",
    "            return ''.join(ans)\n",
    "\n",
    "        if n == 1:\n",
    "            return '1'\n",
    "        curr_str = '1'\n",
    "        for _ in range(2,n + 1):\n",
    "            curr_str = RLE(curr_str)\n",
    "        return curr_str\n",
    "\n",
    "        "
   ]
  },
  {
   "cell_type": "code",
   "execution_count": 77,
   "metadata": {},
   "outputs": [
    {
     "name": "stdout",
     "output_type": "stream",
     "text": [
      "['1', '1']\n",
      "['2', '1']\n",
      "['1', '2', '1', '1']\n",
      "['1', '1', '1', '2', '2', '1']\n",
      "['3', '1', '2', '2', '1', '1']\n",
      "['1', '3', '1', '1', '2', '2', '2', '1']\n",
      "['1', '1', '1', '3', '2', '1', '3', '2', '1', '1']\n",
      "1113213211\n"
     ]
    }
   ],
   "source": [
    "sol = Solution()\n",
    "print(sol.countAndSay(8))"
   ]
  },
  {
   "cell_type": "code",
   "execution_count": null,
   "metadata": {},
   "outputs": [],
   "source": [
    "\"312211\"\n"
   ]
  }
 ],
 "metadata": {
  "kernelspec": {
   "display_name": "leetcode",
   "language": "python",
   "name": "python3"
  },
  "language_info": {
   "codemirror_mode": {
    "name": "ipython",
    "version": 3
   },
   "file_extension": ".py",
   "mimetype": "text/x-python",
   "name": "python",
   "nbconvert_exporter": "python",
   "pygments_lexer": "ipython3",
   "version": "3.12.7"
  }
 },
 "nbformat": 4,
 "nbformat_minor": 2
}
