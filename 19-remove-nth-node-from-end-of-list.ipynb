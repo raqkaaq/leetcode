{
 "cells": [
  {
   "cell_type": "markdown",
   "metadata": {},
   "source": [
    "### 19. Remove Nth Node From End of List\n",
    "Medium\n",
    "\n",
    "Hint\n",
    "Given the head of a linked list, remove the nth node from the end of the list and return its head.\n",
    "\n",
    " \n",
    "\n",
    "Example 1:\n",
    "\n",
    "\n",
    "Input: head = [1,2,3,4,5], n = 2\n",
    "Output: [1,2,3,5]\n",
    "Example 2:\n",
    "\n",
    "Input: head = [1], n = 1\n",
    "Output: []\n",
    "Example 3:\n",
    "\n",
    "Input: head = [1,2], n = 1\n",
    "Output: [1]\n",
    " \n",
    "\n",
    "Constraints:\n",
    "\n",
    "The number of nodes in the list is sz.\n",
    "1 <= sz <= 30\n",
    "0 <= Node.val <= 100\n",
    "1 <= n <= sz\n",
    " \n",
    "\n",
    "Follow up: Could you do this in one pass?"
   ]
  },
  {
   "cell_type": "code",
   "execution_count": 32,
   "metadata": {},
   "outputs": [],
   "source": [
    "# Definition for singly-linked list.\n",
    "class ListNode:\n",
    "    def __init__(self, val=0, next=None):\n",
    "        self.val = val\n",
    "        self.next = next\n",
    "    def make(list):\n",
    "        node = ListNode(list[0], None)\n",
    "        head = node\n",
    "        for i in range(1,len(list)):\n",
    "            node.next = ListNode(list[i], None)\n",
    "            node = node.next\n",
    "        return head\n",
    "    def __str__(self):\n",
    "        node = self\n",
    "        stri = '['\n",
    "        while node != None:\n",
    "            stri += str(node.val)\n",
    "            if node.next != None:\n",
    "                stri += ','\n",
    "            node = node.next\n",
    "        stri += ']'\n",
    "        return stri\n",
    "class Solution:\n",
    "    def removeNthFromEnd(self, head, n: int):\n",
    "        dummy = ListNode(0,head)\n",
    "        counter = nth = dummy\n",
    "        for _ in range(n):\n",
    "            counter = counter.next\n",
    "        while counter.next:\n",
    "            counter = counter.next\n",
    "            nth = nth.next\n",
    "        nth.next = nth.next.next\n",
    "        return dummy.next"
   ]
  },
  {
   "cell_type": "code",
   "execution_count": 33,
   "metadata": {},
   "outputs": [
    {
     "name": "stdout",
     "output_type": "stream",
     "text": [
      "[1,2,3,5]\n",
      "[1]\n",
      "[2]\n"
     ]
    }
   ],
   "source": [
    "sol = Solution()\n",
    "h,n = [1,2,3,4,5], 2\n",
    "li = ListNode.make(h)\n",
    "print(sol.removeNthFromEnd(li, n))\n",
    "h,n = [1,2],1\n",
    "li = ListNode.make(h)\n",
    "print(sol.removeNthFromEnd(li,n))\n",
    "h,n = [1,2],2\n",
    "li = ListNode.make(h)\n",
    "print(sol.removeNthFromEnd(li,n))\n"
   ]
  },
  {
   "cell_type": "code",
   "execution_count": null,
   "metadata": {},
   "outputs": [],
   "source": []
  }
 ],
 "metadata": {
  "kernelspec": {
   "display_name": "leetcode",
   "language": "python",
   "name": "python3"
  },
  "language_info": {
   "codemirror_mode": {
    "name": "ipython",
    "version": 3
   },
   "file_extension": ".py",
   "mimetype": "text/x-python",
   "name": "python",
   "nbconvert_exporter": "python",
   "pygments_lexer": "ipython3",
   "version": "3.12.7"
  }
 },
 "nbformat": 4,
 "nbformat_minor": 2
}
