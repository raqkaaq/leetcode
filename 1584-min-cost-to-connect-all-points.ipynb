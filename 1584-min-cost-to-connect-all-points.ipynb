{
 "cells": [
  {
   "cell_type": "markdown",
   "metadata": {},
   "source": [
    "### 1584. Min Cost to Connect All Points\n",
    "Medium\n",
    "\n",
    "Hint\n",
    "You are given an array points representing integer coordinates of some points on a 2D-plane, where points[i] = [xi, yi].\n",
    "\n",
    "The cost of connecting two points [xi, yi] and [xj, yj] is the manhattan distance between them: |xi - xj| + |yi - yj|, where |val| denotes the absolute value of val.\n",
    "\n",
    "Return the minimum cost to make all points connected. All points are connected if there is exactly one simple path between any two points.\n",
    "\n",
    " \n",
    "\n",
    "Example 1:\n",
    "\n",
    "\n",
    "Input: points = [[0,0],[2,2],[3,10],[5,2],[7,0]]\n",
    "Output: 20\n",
    "Explanation: \n",
    "\n",
    "We can connect the points as shown above to get the minimum cost of 20.\n",
    "Notice that there is a unique path between every pair of points.\n",
    "Example 2:\n",
    "\n",
    "Input: points = [[3,12],[-2,5],[-4,1]]\n",
    "Output: 18\n",
    " \n",
    "\n",
    "Constraints:\n",
    "\n",
    "1 <= points.length <= 1000\n",
    "-106 <= xi, yi <= 106\n",
    "All pairs (xi, yi) are distinct."
   ]
  },
  {
   "cell_type": "code",
   "execution_count": 1,
   "metadata": {},
   "outputs": [],
   "source": [
    "#Prims algorithm\n",
    "class Solution:\n",
    "    def minCostConnectPoints(self, points: list[list[int]]) -> int:\n",
    "        dist = lambda p1,p2: abs(p1[0] - p2[0]) + abs(p1[1]- p2[1])\n",
    "        #use prims algorithm\n",
    "        n = len(points)\n",
    "        visited = [False] * n\n",
    "        cost = 0\n",
    "        start = 0\n",
    "        import heapq\n",
    "        H = []\n",
    "        for i,p in enumerate(points):\n",
    "            if i != start:\n",
    "                heapq.heappush(H,(dist(points[start],p),i))\n",
    "            visited[start] = True\n",
    "        while H:\n",
    "            priority, point = heapq.heappop(H)\n",
    "            if not visited[point]:\n",
    "                visited[point] = True\n",
    "                cost += priority\n",
    "                for j in range(n):\n",
    "                    if not visited[j]:\n",
    "                        heapq.heappush(H, (dist(points[point], points[j]),  j))\n",
    "        return cost"
   ]
  },
  {
   "cell_type": "code",
   "execution_count": 2,
   "metadata": {},
   "outputs": [
    {
     "name": "stdout",
     "output_type": "stream",
     "text": [
      "20\n",
      "18\n"
     ]
    }
   ],
   "source": [
    "sol = Solution()\n",
    "p = [[0,0],[2,2],[3,10],[5,2],[7,0]]\n",
    "print(sol.minCostConnectPoints(p))\n",
    "p = [[3,12],[-2,5],[-4,1]]\n",
    "print(sol.minCostConnectPoints(p))"
   ]
  },
  {
   "cell_type": "code",
   "execution_count": null,
   "metadata": {},
   "outputs": [],
   "source": []
  },
  {
   "cell_type": "code",
   "execution_count": null,
   "metadata": {},
   "outputs": [],
   "source": []
  }
 ],
 "metadata": {
  "kernelspec": {
   "display_name": "leetcode",
   "language": "python",
   "name": "python3"
  },
  "language_info": {
   "codemirror_mode": {
    "name": "ipython",
    "version": 3
   },
   "file_extension": ".py",
   "mimetype": "text/x-python",
   "name": "python",
   "nbconvert_exporter": "python",
   "pygments_lexer": "ipython3",
   "version": "3.12.7"
  }
 },
 "nbformat": 4,
 "nbformat_minor": 2
}
