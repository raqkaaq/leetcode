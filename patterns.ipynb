{
 "cells": [
  {
   "cell_type": "markdown",
   "metadata": {},
   "source": [
    "### Two Pointer\n"
   ]
  },
  {
   "cell_type": "code",
   "execution_count": null,
   "metadata": {},
   "outputs": [],
   "source": []
  },
  {
   "cell_type": "markdown",
   "metadata": {},
   "source": [
    "### Sliding Window"
   ]
  },
  {
   "cell_type": "markdown",
   "metadata": {},
   "source": [
    "### Binary Search\n",
    "Start at the left and right respectively (OF A SORTED DATA STRUCTURE). Find the midpoint by calculating left+right/2. If the midpoint is the target, return the value. If it is less than the value, then the value must be between the midpoint and the right point, so set the left point to the mid point + 1 and do it again. Do the opposite if the midpoint is greater than the target."
   ]
  },
  {
   "cell_type": "code",
   "execution_count": 11,
   "metadata": {},
   "outputs": [
    {
     "data": {
      "text/plain": [
       "2"
      ]
     },
     "execution_count": 11,
     "metadata": {},
     "output_type": "execute_result"
    }
   ],
   "source": [
    "#basic search\n",
    "def binary_search(arr: list[int], target: int) -> int:\n",
    "    left, right = 0, len(arr) - 1\n",
    "    while left <= right:\n",
    "        mid = (left + right) // 2\n",
    "        if arr[mid] == target:\n",
    "            return mid\n",
    "        elif arr[mid] < target:       \n",
    "            left = mid + 1\n",
    "        else:\n",
    "            right = mid - 1\n",
    "    return -1\n",
    "\n",
    "arr = [1,2,3,4,5,6]\n",
    "binary_search(arr, 3)"
   ]
  },
  {
   "cell_type": "markdown",
   "metadata": {},
   "source": [
    "### Breadth First Search\n",
    "Use a queue, start at the root, for every node connecting to the root add to queue. Repeat for each level, ignoring visited nodes."
   ]
  },
  {
   "cell_type": "code",
   "execution_count": 12,
   "metadata": {},
   "outputs": [],
   "source": [
    "from collections import deque\n",
    "#level order traversal example\n",
    "def lot(root):\n",
    "    if not root:\n",
    "        return []\n",
    "    result = []\n",
    "    queue = deque([root])\n",
    "    while queue:\n",
    "        level = []\n",
    "        for i in range(len(queue)):\n",
    "            node = queue.popleft()\n",
    "            level.append(node.val)\n",
    "            if node.left:\n",
    "                queue.append(node.left)\n",
    "            if node.right:\n",
    "                queue.append(node.right)\n",
    "        result.append(level)\n",
    "    return result"
   ]
  },
  {
   "cell_type": "markdown",
   "metadata": {},
   "source": [
    "### DFS\n",
    "Use a stack. Start at root, continue down path, then recurse back to explore other paths"
   ]
  },
  {
   "cell_type": "code",
   "execution_count": 13,
   "metadata": {},
   "outputs": [],
   "source": [
    "#Tree DFS\n",
    "def dfs(root, target):\n",
    "    if root is None:\n",
    "        return None\n",
    "    if root.val == target:\n",
    "        return root\n",
    "    left = dfs(root.left, target)\n",
    "    if left is not None:\n",
    "        return left\n",
    "    return dfs(root.right, target)\n",
    "\n",
    "#graph dfs\n",
    "def get_neighbors(root):\n",
    "    pass\n",
    "def dfs(root, target):\n",
    "    visited = {'key': 'value'}\n",
    "    for neighbor in get_neighbors(root):\n",
    "        if visited[neighbor]:\n",
    "            continue\n",
    "        visited[neighbor] = True\n",
    "        dfs(neighbor, visited)"
   ]
  }
 ],
 "metadata": {
  "kernelspec": {
   "display_name": "leetcode",
   "language": "python",
   "name": "python3"
  },
  "language_info": {
   "codemirror_mode": {
    "name": "ipython",
    "version": 3
   },
   "file_extension": ".py",
   "mimetype": "text/x-python",
   "name": "python",
   "nbconvert_exporter": "python",
   "pygments_lexer": "ipython3",
   "version": "3.12.7"
  }
 },
 "nbformat": 4,
 "nbformat_minor": 2
}
