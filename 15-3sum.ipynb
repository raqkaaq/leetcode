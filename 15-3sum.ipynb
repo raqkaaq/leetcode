{
 "cells": [
  {
   "cell_type": "markdown",
   "metadata": {},
   "source": [
    "### 15. 3Sum\n",
    "Medium\n",
    "\n",
    "Hint\n",
    "Given an integer array nums, return all the triplets [nums[i], nums[j], nums[k]] such that i != j, i != k, and j != k, and nums[i] + nums[j] + nums[k] == 0.\n",
    "\n",
    "Notice that the solution set must not contain duplicate triplets.\n",
    "\n",
    " \n",
    "\n",
    "Example 1:\n",
    "\n",
    "Input: nums = [-1,0,1,2,-1,-4]\n",
    "Output: [[-1,-1,2],[-1,0,1]]\n",
    "Explanation: \n",
    "nums[0] + nums[1] + nums[2] = (-1) + 0 + 1 = 0.\n",
    "nums[1] + nums[2] + nums[4] = 0 + 1 + (-1) = 0.\n",
    "nums[0] + nums[3] + nums[4] = (-1) + 2 + (-1) = 0.\n",
    "The distinct triplets are [-1,0,1] and [-1,-1,2].\n",
    "Notice that the order of the output and the order of the triplets does not matter.\n",
    "Example 2:\n",
    "\n",
    "Input: nums = [0,1,1]\n",
    "Output: []\n",
    "Explanation: The only possible triplet does not sum up to 0.\n",
    "Example 3:\n",
    "\n",
    "Input: nums = [0,0,0]\n",
    "Output: [[0,0,0]]\n",
    "Explanation: The only possible triplet sums up to 0.\n",
    " \n",
    "\n",
    "Constraints:\n",
    "\n",
    "3 <= nums.length <= 3000\n",
    "-105 <= nums[i] <= 105"
   ]
  },
  {
   "cell_type": "code",
   "execution_count": 97,
   "metadata": {},
   "outputs": [],
   "source": [
    "#this is a really bad solution, since it is brute force. There are likely better methods\n",
    "class Solution:\n",
    "    def threeSum(self, nums: list[int]) -> list[list[int]]:\n",
    "        ans =  set()\n",
    "        target = 0\n",
    "        nums.sort()\n",
    "        for i,n in enumerate(nums):\n",
    "            l,r = i+1, len(nums) - 1\n",
    "            while l < r:\n",
    "                if i == l:\n",
    "                    l += 1\n",
    "                    continue\n",
    "                elif i == r:\n",
    "                    r -= 1\n",
    "                    continue\n",
    "                check = n + nums[l] + nums[r]\n",
    "                if check == target:\n",
    "                    var = [n, nums[l], nums[r]]\n",
    "                    var.sort()\n",
    "                    ans.add(tuple(var))\n",
    "                    l += 1\n",
    "                elif check > target:\n",
    "                    r -= 1\n",
    "                else:\n",
    "                    l += 1\n",
    "        temp = list(ans)\n",
    "        for i,a in enumerate(temp):\n",
    "            temp[i] = list(a)\n",
    "        return temp\n"
   ]
  },
  {
   "cell_type": "code",
   "execution_count": 98,
   "metadata": {},
   "outputs": [
    {
     "name": "stdout",
     "output_type": "stream",
     "text": [
      "[[-3, -1, 4], [-1, 0, 1], [-4, 1, 3], [-2, 0, 2], [-1, -1, 2], [-3, 0, 3], [-4, 0, 4], [-2, -1, 3], [-3, 1, 2]]\n"
     ]
    }
   ],
   "source": [
    "sol = Solution()\n",
    "# n = [-1,0,1,2,-1,-4]\n",
    "# print(sol.threeSum(n))\n",
    "# n = [0,1,1]\n",
    "# print(sol.threeSum(n))\n",
    "# n = [0,0,0]\n",
    "# print(sol.threeSum(n))\n",
    "n = [-1,0,1,2,-1,-4,-2,-3,3,0,4]\n",
    "print(sol.threeSum(n))"
   ]
  },
  {
   "cell_type": "code",
   "execution_count": null,
   "metadata": {},
   "outputs": [],
   "source": []
  },
  {
   "cell_type": "code",
   "execution_count": null,
   "metadata": {},
   "outputs": [],
   "source": []
  }
 ],
 "metadata": {
  "kernelspec": {
   "display_name": "leetcode",
   "language": "python",
   "name": "python3"
  },
  "language_info": {
   "codemirror_mode": {
    "name": "ipython",
    "version": 3
   },
   "file_extension": ".py",
   "mimetype": "text/x-python",
   "name": "python",
   "nbconvert_exporter": "python",
   "pygments_lexer": "ipython3",
   "version": "3.12.7"
  }
 },
 "nbformat": 4,
 "nbformat_minor": 2
}
