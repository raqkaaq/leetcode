{
 "cells": [
  {
   "cell_type": "markdown",
   "metadata": {},
   "source": [
    "### 120. Triangle\n",
    "Medium\n",
    "\n",
    "Given a triangle array, return the minimum path sum from top to bottom.\n",
    "\n",
    "For each step, you may move to an adjacent number of the row below. More formally, if you are on index i on the current row, you may move to either index i or index i + 1 on the next row.\n",
    "\n",
    " \n",
    "\n",
    "Example 1:\n",
    "\n",
    "Input: triangle = [[2],[3,4],[6,5,7],[4,1,8,3]]\n",
    "Output: 11\n",
    "Explanation: The triangle looks like:\n",
    "   2\n",
    "  3 4\n",
    " 6 5 7\n",
    "4 1 8 3\n",
    "The minimum path sum from top to bottom is 2 + 3 + 5 + 1 = 11 (underlined above).\n",
    "Example 2:\n",
    "\n",
    "Input: triangle = [[-10]]\n",
    "Output: -10\n",
    " \n",
    "\n",
    "Constraints:\n",
    "\n",
    "1 <= triangle.length <= 200\n",
    "triangle[0].length == 1\n",
    "triangle[i].length == triangle[i - 1].length + 1\n",
    "-104 <= triangle[i][j] <= 104\n",
    " \n",
    "\n",
    "Follow up: Could you do this using only O(n) extra space, where n is the total number of rows in the triangle?"
   ]
  },
  {
   "cell_type": "code",
   "execution_count": null,
   "metadata": {},
   "outputs": [],
   "source": [
    "class Solution:\n",
    "    def minimumTotal(self, triangle: list[list[int]]) -> int:\n",
    "        #Greedy probably will give the wrong answer\n",
    "        #This is greedy, and indeed it does give the wrong answer\n",
    "        minimum, index = triangle[0][0], 0\n",
    "        for row in triangle[1:]:\n",
    "            print(minimum, index)\n",
    "            temp1 = row[index] + minimum\n",
    "            temp2 = row[index + 1] + minimum\n",
    "            minimum, index = (temp1, index) if temp1 < temp2 else (temp2, index + 1)\n",
    "        return minimum, index\n",
    "\n",
    "#greedy backwards works\n",
    "class Solution:\n",
    "    def minimumTotal(self, triangle: list[list[int]]) -> int:\n",
    "        n = len(triangle) - 1\n",
    "        for i in range(n - 1, -1, -1):\n",
    "            for j, val in enumerate(triangle[i]):\n",
    "                temp1 = val + triangle[i+1][j]\n",
    "                temp2 = val + triangle[i+1][j+1]\n",
    "                triangle[i][j] = min(temp1, temp2)\n",
    "        return triangle[0][0]\n",
    "\n",
    "#greedy backwards optimized and reduced calculations\n",
    "class Solution:\n",
    "    def minimumTotal(self, triangle: list[list[int]]) -> int:\n",
    "        #maybe work backwards?\n",
    "        #greedy backwords works\n",
    "        #n = len(triangle) - 1\n",
    "        #want to skip the first row\n",
    "        for i in range(len(triangle) - 2, -1, -1):\n",
    "            for j in range(len(triangle[i])) :\n",
    "                triangle[i][j] += min(triangle[i+1][j], triangle[i+1][j+1])\n",
    "        return triangle[0][0]"
   ]
  },
  {
   "cell_type": "code",
   "execution_count": 158,
   "metadata": {},
   "outputs": [
    {
     "name": "stdout",
     "output_type": "stream",
     "text": [
      "11\n"
     ]
    }
   ],
   "source": [
    "sol = Solution()\n",
    "triangle = [[2],[3,4],[6,5,7], [4,1,8,3]]\n",
    "print(sol.minimumTotal(triangle))"
   ]
  },
  {
   "cell_type": "code",
   "execution_count": 159,
   "metadata": {},
   "outputs": [
    {
     "name": "stdout",
     "output_type": "stream",
     "text": [
      "-1\n"
     ]
    }
   ],
   "source": [
    "triangle= [[-1],[2,3],[1,-1,-3]]\n",
    "print(sol.minimumTotal(triangle))"
   ]
  },
  {
   "cell_type": "code",
   "execution_count": null,
   "metadata": {},
   "outputs": [],
   "source": []
  },
  {
   "cell_type": "code",
   "execution_count": null,
   "metadata": {},
   "outputs": [],
   "source": []
  }
 ],
 "metadata": {
  "kernelspec": {
   "display_name": "leetcode",
   "language": "python",
   "name": "python3"
  },
  "language_info": {
   "codemirror_mode": {
    "name": "ipython",
    "version": 3
   },
   "file_extension": ".py",
   "mimetype": "text/x-python",
   "name": "python",
   "nbconvert_exporter": "python",
   "pygments_lexer": "ipython3",
   "version": "3.12.7"
  }
 },
 "nbformat": 4,
 "nbformat_minor": 2
}
