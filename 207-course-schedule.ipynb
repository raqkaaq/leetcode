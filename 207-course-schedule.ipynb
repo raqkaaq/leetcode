{
 "cells": [
  {
   "cell_type": "markdown",
   "metadata": {
    "vscode": {
     "languageId": "plaintext"
    }
   },
   "source": [
    "### 207. Course Schedule\n",
    "Medium\n",
    "\n",
    "Hint\n",
    "There are a total of numCourses courses you have to take, labeled from 0 to numCourses - 1. You are given an array prerequisites where prerequisites[i] = [ai, bi] indicates that you must take course bi first if you want to take course ai.\n",
    "\n",
    "For example, the pair [0, 1], indicates that to take course 0 you have to first take course 1.\n",
    "Return true if you can finish all courses. Otherwise, return false.\n",
    "\n",
    " \n",
    "\n",
    "Example 1:\n",
    "\n",
    "Input: numCourses = 2, prerequisites = [[1,0]]\n",
    "Output: true\n",
    "Explanation: There are a total of 2 courses to take. \n",
    "To take course 1 you should have finished course 0. So it is possible.\n",
    "Example 2:\n",
    "\n",
    "Input: numCourses = 2, prerequisites = [[1,0],[0,1]]\n",
    "Output: false\n",
    "Explanation: There are a total of 2 courses to take. \n",
    "To take course 1 you should have finished course 0, and to take course 0 you should also have finished course 1. So it is impossible.\n",
    " \n",
    "\n",
    "Constraints:\n",
    "\n",
    "1 <= numCourses <= 2000\n",
    "0 <= prerequisites.length <= 5000\n",
    "prerequisites[i].length == 2\n",
    "0 <= ai, bi < numCourses\n",
    "All the pairs prerequisites[i] are unique."
   ]
  },
  {
   "cell_type": "code",
   "execution_count": 75,
   "metadata": {},
   "outputs": [],
   "source": [
    "class Solution:\n",
    "    def canFinish(self, numCourses: int, prerequisites: list[list[int]]) -> bool:\n",
    "        #solve by performing a dfs on the courses, if there is a loop, then it fails\n",
    "        #create adjacency list for the graph\n",
    "        pre_dict = {i:[] for i in range(numCourses)}\n",
    "        for p in prerequisites:\n",
    "            pre_dict[p[0]].append(p[1])\n",
    "            \n",
    "        visited = set()\n",
    "        path = set()\n",
    "        #define a dfs searcher\n",
    "        def dfs(num):\n",
    "            #if num is in path already, then there is a cycle so return false\n",
    "            if num in path:\n",
    "                return False\n",
    "            #if num is already visited, there is no point visiting it again, so continue\n",
    "            if num in visited:\n",
    "                return True\n",
    "            path.add(num)\n",
    "            #explore the dfs of each prerequisite to num, if any cycle, then return False\n",
    "            for p in pre_dict[num]:\n",
    "                if not dfs(p):\n",
    "                    return False\n",
    "            #take num off the path to explore the next node\n",
    "            path.remove(num)\n",
    "            #num has been fully visited\n",
    "            visited.add(num)\n",
    "            #if it got here, then it worked\n",
    "            return True\n",
    "        #explore each class in the range. If any have cycles detected, then return false\n",
    "        for num in range(numCourses):\n",
    "            if not dfs(num):\n",
    "                return False\n",
    "        return True\n"
   ]
  },
  {
   "cell_type": "code",
   "execution_count": 76,
   "metadata": {},
   "outputs": [
    {
     "name": "stdout",
     "output_type": "stream",
     "text": [
      "True\n",
      "False\n"
     ]
    }
   ],
   "source": [
    "sol = Solution()\n",
    "n, p = 2, [[1,0]]\n",
    "print(sol.canFinish(n, p))\n",
    "\n",
    "n, p = 2, [[1,0], [0,1]]\n",
    "print(sol.canFinish(n, p))"
   ]
  },
  {
   "cell_type": "code",
   "execution_count": 77,
   "metadata": {},
   "outputs": [
    {
     "name": "stdout",
     "output_type": "stream",
     "text": [
      "False\n"
     ]
    }
   ],
   "source": [
    "n,p = 20, [[0,10],[3,18],[5,5],[6,11],[11,14],[13,1],[15,1],[17,4]]\n",
    "print(sol.canFinish(n,p))"
   ]
  },
  {
   "cell_type": "code",
   "execution_count": null,
   "metadata": {},
   "outputs": [],
   "source": []
  }
 ],
 "metadata": {
  "kernelspec": {
   "display_name": "leetcode",
   "language": "python",
   "name": "python3"
  },
  "language_info": {
   "codemirror_mode": {
    "name": "ipython",
    "version": 3
   },
   "file_extension": ".py",
   "mimetype": "text/x-python",
   "name": "python",
   "nbconvert_exporter": "python",
   "pygments_lexer": "ipython3",
   "version": "3.12.7"
  }
 },
 "nbformat": 4,
 "nbformat_minor": 2
}
