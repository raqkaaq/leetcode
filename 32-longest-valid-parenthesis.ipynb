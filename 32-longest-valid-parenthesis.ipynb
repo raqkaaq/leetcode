{
 "cells": [
  {
   "cell_type": "markdown",
   "metadata": {},
   "source": [
    "### 32. Longest Valid Parentheses\n",
    "Hard\n",
    "\n",
    "Given a string containing just the characters '(' and ')', return the length of the longest valid (well-formed) parentheses \n",
    "substring\n",
    ".\n",
    "\n",
    " \n",
    "\n",
    "Example 1:\n",
    "\n",
    "Input: s = \"(()\"\n",
    "Output: 2\n",
    "Explanation: The longest valid parentheses substring is \"()\".\n",
    "Example 2:\n",
    "\n",
    "Input: s = \")()())\"\n",
    "Output: 4\n",
    "Explanation: The longest valid parentheses substring is \"()()\".\n",
    "Example 3:\n",
    "\n",
    "Input: s = \"\"\n",
    "Output: 0\n",
    " \n",
    "\n",
    "Constraints:\n",
    "\n",
    "0 <= s.length <= 3 * 104\n",
    "s[i] is '(', or ')'."
   ]
  },
  {
   "cell_type": "code",
   "execution_count": 37,
   "metadata": {},
   "outputs": [],
   "source": [
    "class Solution:\n",
    "    def longestValidParentheses(self, s: str) -> int:\n",
    "        if not s or len(s) < 2:\n",
    "            return 0\n",
    "        #use a stack to convert the problem from a '(' problem to a 1 problem\n",
    "        stack = []\n",
    "        l = [0] * len(s)\n",
    "        for i, paren in enumerate(s):\n",
    "            if paren == '(':\n",
    "                stack.append(i)\n",
    "            elif paren == ')' and stack:\n",
    "                loc = stack.pop()\n",
    "                #if matching pair of parenthesis, change their values to 1\n",
    "                l[loc] = l[i] = 1\n",
    "        #find the longest sequence of 1s\n",
    "        max_count = count =  0\n",
    "        for val in l:\n",
    "            if val == 0:\n",
    "                count = 0\n",
    "            elif val == 1:\n",
    "                count += 1\n",
    "                if count > max_count:\n",
    "                    max_count = count\n",
    "        return max_count\n",
    "\n",
    "#hoped to be faster, instead was slower\n",
    "class Solution:\n",
    "    def longestValidParentheses(self, s: str) -> int:\n",
    "        if not s or len(s) < 2:\n",
    "            return 0\n",
    "        #use a stack to convert the problem from a '(' problem to a 1 problem\n",
    "        stack = []\n",
    "        max_count = 0\n",
    "        for i, paren in enumerate(s):\n",
    "            #if its a ( append it to the stack\n",
    "            if paren == '(':\n",
    "                stack.append(i,)\n",
    "            elif paren == ')':\n",
    "                if stack and s[stack[-1]] == '(':\n",
    "                    stack.pop()\n",
    "                    start = stack[-1] if stack else -1\n",
    "                    max_count = max(max_count, i - start)\n",
    "                else: stack.append(i)\n",
    "        return max_count\n",
    "\n",
    "#can I do dynamic programming for this?\n",
    "class Solution:\n",
    "    def longestValidParentheses(self, s: str) -> int:\n",
    "        if not s or len(s) < 2:\n",
    "            return 0\n",
    "        dp = [0] * len(s)\n",
    "        for i in range(1, len(s)): # skip index 0 since it can never be a valid set\n",
    "            if s[i] == ')':\n",
    "                #gets the case of adjecent parentheses, but misses cases of wrapping parentheses\n",
    "                if s[i - 1] == '(':\n",
    "                    #get the previous substring length, plus 2 since valid\n",
    "                    dp[i] += dp[i-2] + 2\n",
    "                else:\n",
    "                    #look back to the parentheses before the most recent complete set if it is (\n",
    "                    #then its worth checking\n",
    "                    if i - dp[i-1] > 0 and s[ i - dp[i-1] - 1] == '(':\n",
    "                        #note that this could create a longer substring for instance the case ()(())\n",
    "                        #get the current substring plus prior       boundary check since negative indices are valid python\n",
    "                        dp[i] = dp[i-1] + 2 + (dp[i - dp[i-1] - 2] if i - dp[i-1] >= 2 else 0)\n",
    "        return max(dp)\n",
    "\n",
    "                "
   ]
  },
  {
   "cell_type": "code",
   "execution_count": 38,
   "metadata": {},
   "outputs": [
    {
     "name": "stdout",
     "output_type": "stream",
     "text": [
      "2\n"
     ]
    }
   ],
   "source": [
    "sol = Solution()\n",
    "s = '(()'\n",
    "print(sol.longestValidParentheses(s))"
   ]
  },
  {
   "cell_type": "code",
   "execution_count": 39,
   "metadata": {},
   "outputs": [
    {
     "name": "stdout",
     "output_type": "stream",
     "text": [
      "4\n"
     ]
    }
   ],
   "source": [
    "s = \")()())\"\n",
    "print(sol.longestValidParentheses(s))"
   ]
  },
  {
   "cell_type": "code",
   "execution_count": 31,
   "metadata": {},
   "outputs": [
    {
     "name": "stdout",
     "output_type": "stream",
     "text": [
      "0\n"
     ]
    }
   ],
   "source": [
    "s = ''\n",
    "print(sol.longestValidParentheses(s))"
   ]
  },
  {
   "cell_type": "code",
   "execution_count": 32,
   "metadata": {},
   "outputs": [
    {
     "name": "stdout",
     "output_type": "stream",
     "text": [
      "[0, 2, 0, 0, 2]\n",
      "2\n"
     ]
    }
   ],
   "source": [
    "s = '()(()'\n",
    "print(sol.longestValidParentheses(s))"
   ]
  },
  {
   "cell_type": "code",
   "execution_count": 33,
   "metadata": {},
   "outputs": [
    {
     "name": "stdout",
     "output_type": "stream",
     "text": [
      "[0, 2, 0, 0, 0, 0, 0, 0, 0]\n",
      "2\n"
     ]
    }
   ],
   "source": [
    "s = '())))))))'\n",
    "print(sol.longestValidParentheses(s))"
   ]
  },
  {
   "cell_type": "code",
   "execution_count": 34,
   "metadata": {},
   "outputs": [
    {
     "name": "stdout",
     "output_type": "stream",
     "text": [
      "[0, 2, 0, 4]\n",
      "4\n"
     ]
    }
   ],
   "source": [
    "s = '()()'\n",
    "print(sol.longestValidParentheses(s))"
   ]
  },
  {
   "cell_type": "code",
   "execution_count": 35,
   "metadata": {},
   "outputs": [
    {
     "name": "stdout",
     "output_type": "stream",
     "text": [
      "[0, 0, 2, 4]\n",
      "4\n"
     ]
    }
   ],
   "source": [
    "s = '(())'\n",
    "print(sol.longestValidParentheses(s))"
   ]
  },
  {
   "cell_type": "code",
   "execution_count": 36,
   "metadata": {},
   "outputs": [
    {
     "name": "stdout",
     "output_type": "stream",
     "text": [
      "[0, 0, 2, 0, 4, 6]\n",
      "6\n"
     ]
    }
   ],
   "source": [
    "s = '(()())'\n",
    "print(sol.longestValidParentheses(s))"
   ]
  },
  {
   "cell_type": "code",
   "execution_count": null,
   "metadata": {},
   "outputs": [],
   "source": []
  }
 ],
 "metadata": {
  "kernelspec": {
   "display_name": "leetcode",
   "language": "python",
   "name": "python3"
  },
  "language_info": {
   "codemirror_mode": {
    "name": "ipython",
    "version": 3
   },
   "file_extension": ".py",
   "mimetype": "text/x-python",
   "name": "python",
   "nbconvert_exporter": "python",
   "pygments_lexer": "ipython3",
   "version": "3.13.0"
  }
 },
 "nbformat": 4,
 "nbformat_minor": 2
}
