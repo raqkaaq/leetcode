{
 "cells": [
  {
   "cell_type": "markdown",
   "id": "755b1c01",
   "metadata": {},
   "source": [
    "### 2942. Find Words Containing Character\n",
    "Easy\n",
    "\n",
    "Hint\n",
    "You are given a 0-indexed array of strings words and a character x.\n",
    "\n",
    "Return an array of indices representing the words that contain the character x.\n",
    "\n",
    "Note that the returned array may be in any order.\n",
    "\n",
    " \n",
    "\n",
    "Example 1:\n",
    "\n",
    "Input: words = [\"leet\",\"code\"], x = \"e\"\n",
    "Output: [0,1]\n",
    "Explanation: \"e\" occurs in both words: \"leet\", and \"code\". Hence, we return indices 0 and 1.\n",
    "Example 2:\n",
    "\n",
    "Input: words = [\"abc\",\"bcd\",\"aaaa\",\"cbc\"], x = \"a\"\n",
    "Output: [0,2]\n",
    "Explanation: \"a\" occurs in \"abc\", and \"aaaa\". Hence, we return indices 0 and 2.\n",
    "Example 3:\n",
    "\n",
    "Input: words = [\"abc\",\"bcd\",\"aaaa\",\"cbc\"], x = \"z\"\n",
    "Output: []\n",
    "Explanation: \"z\" does not occur in any of the words. Hence, we return an empty array.\n",
    " \n",
    "\n",
    "Constraints:\n",
    "\n",
    "1 <= words.length <= 50\n",
    "1 <= words[i].length <= 50\n",
    "x is a lowercase English letter.\n",
    "words[i] consists only of lowercase English letters."
   ]
  },
  {
   "cell_type": "code",
   "execution_count": 8,
   "id": "306c1831",
   "metadata": {},
   "outputs": [],
   "source": [
    "from typing import List\n",
    "class Solution:\n",
    "    def findWordsContaining(self, words: List[str], x: str) -> List[int]:\n",
    "        idxs = []\n",
    "        for idx, word in enumerate(words):\n",
    "            if x in word:\n",
    "                idxs.append(idx)\n",
    "        return idxs\n",
    "        "
   ]
  },
  {
   "cell_type": "code",
   "execution_count": 12,
   "id": "c257fa4c",
   "metadata": {},
   "outputs": [],
   "source": [
    "sol = Solution()\n",
    "words, x = [\"leet\", \"code\"], \"e\"\n",
    "assert sol.findWordsContaining(words, x) == [0,1]\n",
    "words, x = [\"abc\", \"bcd\", \"aaaa\", \"cbc\"], \"a\"\n",
    "assert sol.findWordsContaining(words, x) == [0,2]\n",
    "x = \"z\"\n",
    "assert sol.findWordsContaining(words, x) == []"
   ]
  },
  {
   "cell_type": "code",
   "execution_count": 11,
   "id": "326a9267",
   "metadata": {},
   "outputs": [],
   "source": [
    "class Solution:\n",
    "    def findWordsContaining(self, words: List[str], x: str) -> List[int]:\n",
    "        return [i for i,w in enumerate(words) if x in w]"
   ]
  },
  {
   "cell_type": "code",
   "execution_count": null,
   "id": "77ace927",
   "metadata": {},
   "outputs": [],
   "source": []
  }
 ],
 "metadata": {
  "kernelspec": {
   "display_name": "leetcode",
   "language": "python",
   "name": "python3"
  },
  "language_info": {
   "codemirror_mode": {
    "name": "ipython",
    "version": 3
   },
   "file_extension": ".py",
   "mimetype": "text/x-python",
   "name": "python",
   "nbconvert_exporter": "python",
   "pygments_lexer": "ipython3",
   "version": "3.12.7"
  }
 },
 "nbformat": 4,
 "nbformat_minor": 5
}
