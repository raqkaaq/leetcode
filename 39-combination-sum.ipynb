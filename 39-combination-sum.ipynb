{
 "cells": [
  {
   "cell_type": "markdown",
   "metadata": {},
   "source": [
    "### 39. Combination Sum\n",
    "Medium\n",
    "\n",
    "Given an array of distinct integers candidates and a target integer target, return a list of all unique combinations of candidates where the chosen numbers sum to target. You may return the combinations in any order.\n",
    "\n",
    "The same number may be chosen from candidates an unlimited number of times. Two combinations are unique if the \n",
    "frequency\n",
    " of at least one of the chosen numbers is different.\n",
    "\n",
    "The test cases are generated such that the number of unique combinations that sum up to target is less than 150 combinations for the given input.\n",
    "\n",
    " \n",
    "\n",
    "Example 1:\n",
    "\n",
    "Input: candidates = [2,3,6,7], target = 7\n",
    "Output: [[2,2,3],[7]]\n",
    "Explanation:\n",
    "2 and 3 are candidates, and 2 + 2 + 3 = 7. Note that 2 can be used multiple times.\n",
    "7 is a candidate, and 7 = 7.\n",
    "These are the only two combinations.\n",
    "Example 2:\n",
    "\n",
    "Input: candidates = [2,3,5], target = 8\n",
    "Output: [[2,2,2,2],[2,3,3],[3,5]]\n",
    "Example 3:\n",
    "\n",
    "Input: candidates = [2], target = 1\n",
    "Output: []\n",
    " \n",
    "\n",
    "Constraints:\n",
    "\n",
    "1 <= candidates.length <= 30\n",
    "2 <= candidates[i] <= 40\n",
    "All elements of candidates are distinct.\n",
    "1 <= target <= 40"
   ]
  },
  {
   "cell_type": "code",
   "execution_count": 15,
   "metadata": {},
   "outputs": [],
   "source": [
    "class Solution:\n",
    "    def combinationSum(self, candidates: list[int], target: int):# -> list[list[int]]:\n",
    "        #should be dfs\n",
    "        candidates.sort()\n",
    "        n = len(candidates)\n",
    "        #basically removes any values that are too high without altering the list\n",
    "        if candidates[n - 1]:\n",
    "            for i in range(len(candidates)):\n",
    "                if i > target:\n",
    "                    n = i\n",
    "                    break\n",
    "        #get rid of any that are too high\n",
    "        candidates = candidates[:n]\n",
    "        #initialize the combinations array\n",
    "        ans = []\n",
    "        def dfs(i: int, curr_sum: int):\n",
    "            #if curr_sum == 0, then that means that target - sum(combination) == 0 so the combination works\n",
    "            if curr_sum == 0:\n",
    "                ans.append(curr[:])\n",
    "                return\n",
    "            #if i > n, then quit since its outside of the array, if curr_sum < the candidate at i, then there will be no further possible combinations\n",
    "            if i >= n or curr_sum < candidates[i]:\n",
    "                return\n",
    "            #do the recursion for the next i up\n",
    "            dfs(i+1, curr_sum)\n",
    "            curr.append(candidates[i])\n",
    "            #do the combination for the repetition\n",
    "            dfs(i, curr_sum - candidates[i])\n",
    "            curr.pop()\n",
    "\n",
    "        curr = []\n",
    "        dfs(0,target)\n",
    "        return ans\n"
   ]
  },
  {
   "cell_type": "code",
   "execution_count": 17,
   "metadata": {},
   "outputs": [
    {
     "name": "stdout",
     "output_type": "stream",
     "text": [
      "[[7], [2, 2, 3]]\n",
      "[[3, 5], [2, 3, 3], [2, 2, 2, 2]]\n"
     ]
    }
   ],
   "source": [
    "sol = Solution()\n",
    "c,t = [2,3,6,7],7\n",
    "print(sol.combinationSum(c,t))\n",
    "c,t = [2,3,5],8\n",
    "print(sol.combinationSum(c,t))"
   ]
  },
  {
   "cell_type": "code",
   "execution_count": null,
   "metadata": {},
   "outputs": [],
   "source": []
  }
 ],
 "metadata": {
  "kernelspec": {
   "display_name": "leetcode",
   "language": "python",
   "name": "python3"
  },
  "language_info": {
   "codemirror_mode": {
    "name": "ipython",
    "version": 3
   },
   "file_extension": ".py",
   "mimetype": "text/x-python",
   "name": "python",
   "nbconvert_exporter": "python",
   "pygments_lexer": "ipython3",
   "version": "3.12.7"
  }
 },
 "nbformat": 4,
 "nbformat_minor": 2
}
