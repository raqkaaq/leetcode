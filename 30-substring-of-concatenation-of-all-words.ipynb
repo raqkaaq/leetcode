{
 "cells": [
  {
   "cell_type": "markdown",
   "metadata": {},
   "source": [
    "### 30. Substring with Concatenation of All Words\n",
    "Hard\n",
    "\n",
    "You are given a string s and an array of strings words. All the strings of words are of the same length.\n",
    "\n",
    "A concatenated string is a string that exactly contains all the strings of any permutation of words concatenated.\n",
    "\n",
    "For example, if words = [\"ab\",\"cd\",\"ef\"], then \"abcdef\", \"abefcd\", \"cdabef\", \"cdefab\", \"efabcd\", and \"efcdab\" are all concatenated strings. \"acdbef\" is not a concatenated string because it is not the concatenation of any permutation of words.\n",
    "Return an array of the starting indices of all the concatenated substrings in s. You can return the answer in any order.\n",
    "\n",
    " \n",
    "\n",
    "Example 1:\n",
    "\n",
    "Input: s = \"barfoothefoobarman\", words = [\"foo\",\"bar\"]\n",
    "\n",
    "Output: [0,9]\n",
    "\n",
    "Explanation:\n",
    "\n",
    "The substring starting at 0 is \"barfoo\". It is the concatenation of [\"bar\",\"foo\"] which is a permutation of words.\n",
    "The substring starting at 9 is \"foobar\". It is the concatenation of [\"foo\",\"bar\"] which is a permutation of words.\n",
    "\n",
    "Example 2:\n",
    "\n",
    "Input: s = \"wordgoodgoodgoodbestword\", words = [\"word\",\"good\",\"best\",\"word\"]\n",
    "\n",
    "Output: []\n",
    "\n",
    "Explanation:\n",
    "\n",
    "There is no concatenated substring.\n",
    "\n",
    "Example 3:\n",
    "\n",
    "Input: s = \"barfoofoobarthefoobarman\", words = [\"bar\",\"foo\",\"the\"]\n",
    "\n",
    "Output: [6,9,12]\n",
    "\n",
    "Explanation:\n",
    "\n",
    "The substring starting at 6 is \"foobarthe\". It is the concatenation of [\"foo\",\"bar\",\"the\"].\n",
    "The substring starting at 9 is \"barthefoo\". It is the concatenation of [\"bar\",\"the\",\"foo\"].\n",
    "The substring starting at 12 is \"thefoobar\". It is the concatenation of [\"the\",\"foo\",\"bar\"].\n",
    "\n",
    " \n",
    "\n",
    "Constraints:\n",
    "\n",
    "1 <= s.length <= 104\n",
    "1 <= words.length <= 5000\n",
    "1 <= words[i].length <= 30\n",
    "s and words[i] consist of lowercase English letters."
   ]
  },
  {
   "cell_type": "code",
   "execution_count": 66,
   "metadata": {},
   "outputs": [],
   "source": [
    "#This produces the correct result, but is O(n!) time and space complexity\n",
    "class Solution:\n",
    "    def findSubstring(self, s: str, words: list[str]) -> list[int]:\n",
    "        #create and concatenate all permuations of substrings\n",
    "        def concats(strings: list[str]) -> list[str]:\n",
    "            if len(strings) == 1:\n",
    "                return strings\n",
    "            perms = []\n",
    "            for i in range(len(strings)):\n",
    "                curr = strings[i]\n",
    "                remain = strings[:i] + strings[i+1:]\n",
    "                for p in concats(remain):\n",
    "                    perms.append([curr] + [p])\n",
    "            return [''.join(p) for p in perms]\n",
    "        indexes = set()\n",
    "        w = []\n",
    "        for word in words:\n",
    "            if s.find(word) == -1:\n",
    "                return []\n",
    "        if len(words) > len(w):\n",
    "            return []\n",
    "        for p in concats(words):\n",
    "            start = 0\n",
    "            while (var := s.find(p, start)) != -1:\n",
    "                indexes.add(var)\n",
    "                start = var + 1\n",
    "        return sorted(indexes)\n",
    "            "
   ]
  },
  {
   "cell_type": "code",
   "execution_count": 67,
   "metadata": {},
   "outputs": [
    {
     "name": "stdout",
     "output_type": "stream",
     "text": [
      "[0, 9]\n"
     ]
    }
   ],
   "source": [
    "sol = Solution()\n",
    "s, w = 'barfoothefoobarman', ['foo','bar']\n",
    "print(sol.findSubstring(s,w))"
   ]
  },
  {
   "cell_type": "code",
   "execution_count": 68,
   "metadata": {},
   "outputs": [
    {
     "name": "stdout",
     "output_type": "stream",
     "text": [
      "[]\n"
     ]
    }
   ],
   "source": [
    "s,w = '',[\"ab\",\"cd\",\"ef\"]\n",
    "print(sol.findSubstring(s,w))"
   ]
  },
  {
   "cell_type": "code",
   "execution_count": 69,
   "metadata": {},
   "outputs": [
    {
     "name": "stdout",
     "output_type": "stream",
     "text": [
      "[6, 9, 12]\n"
     ]
    }
   ],
   "source": [
    "s = \"barfoofoobarthefoobarman\"\n",
    "w = [\"bar\",\"foo\",\"the\"]\n",
    "print(sol.findSubstring(s,w))"
   ]
  },
  {
   "cell_type": "code",
   "execution_count": null,
   "metadata": {},
   "outputs": [],
   "source": []
  }
 ],
 "metadata": {
  "kernelspec": {
   "display_name": "leetcode",
   "language": "python",
   "name": "python3"
  },
  "language_info": {
   "codemirror_mode": {
    "name": "ipython",
    "version": 3
   },
   "file_extension": ".py",
   "mimetype": "text/x-python",
   "name": "python",
   "nbconvert_exporter": "python",
   "pygments_lexer": "ipython3",
   "version": "3.13.0"
  }
 },
 "nbformat": 4,
 "nbformat_minor": 2
}
