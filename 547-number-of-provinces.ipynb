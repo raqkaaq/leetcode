{
 "cells": [
  {
   "cell_type": "markdown",
   "metadata": {},
   "source": [
    "### 547. Number of Provinces\n",
    "Medium\n",
    "\n",
    "There are n cities. Some of them are connected, while some are not. If city a is connected directly with city b, and city b is connected directly with city c, then city a is connected indirectly with city c.\n",
    "\n",
    "A province is a group of directly or indirectly connected cities and no other cities outside of the group.\n",
    "\n",
    "You are given an n x n matrix isConnected where isConnected[i][j] = 1 if the ith city and the jth city are directly connected, and isConnected[i][j] = 0 otherwise.\n",
    "\n",
    "Return the total number of provinces.\n",
    "\n",
    " \n",
    "\n",
    "Example 1:\n",
    "\n",
    "\n",
    "Input: isConnected = [[1,1,0],[1,1,0],[0,0,1]]\n",
    "Output: 2\n",
    "Example 2:\n",
    "\n",
    "\n",
    "Input: isConnected = [[1,0,0],[0,1,0],[0,0,1]]\n",
    "Output: 3\n",
    " \n",
    "\n",
    "Constraints:\n",
    "\n",
    "1 <= n <= 200\n",
    "n == isConnected.length\n",
    "n == isConnected[i].length\n",
    "isConnected[i][j] is 1 or 0.\n",
    "isConnected[i][i] == 1\n",
    "isConnected[i][j] == isConnected[j][i]"
   ]
  },
  {
   "cell_type": "code",
   "execution_count": null,
   "metadata": {},
   "outputs": [],
   "source": [
    "#DFS\n",
    "class Solution:\n",
    "    def findCircleNum(self, isConnected: list[list[int]]) -> int:\n",
    "        from collections import deque\n",
    "        stack = deque()\n",
    "        start = 0\n",
    "        stack.append(start)\n",
    "        visited = [False] * len(isConnected)\n",
    "        while stack:\n",
    "            v = stack.pop()\n",
    "            if not visited[v]:\n",
    "                visited[v] = True\n",
    "                for i,k in enumerate(isConnected[v]):\n",
    "                    if k == 1:\n",
    "                        stack.append(i)\n",
    "\n",
    "#NOTE: NOT FINISHED\n",
    "\n",
    "        "
   ]
  },
  {
   "cell_type": "code",
   "execution_count": 10,
   "metadata": {},
   "outputs": [
    {
     "name": "stdout",
     "output_type": "stream",
     "text": [
      "None\n"
     ]
    }
   ],
   "source": [
    "sol = Solution()\n",
    "c = [[1,1,0],[1,1,0],[0,0,1]]\n",
    "print(sol.findCircleNum(c))"
   ]
  },
  {
   "cell_type": "code",
   "execution_count": null,
   "metadata": {},
   "outputs": [],
   "source": []
  }
 ],
 "metadata": {
  "kernelspec": {
   "display_name": "leetcode",
   "language": "python",
   "name": "python3"
  },
  "language_info": {
   "codemirror_mode": {
    "name": "ipython",
    "version": 3
   },
   "file_extension": ".py",
   "mimetype": "text/x-python",
   "name": "python",
   "nbconvert_exporter": "python",
   "pygments_lexer": "ipython3",
   "version": "3.12.7"
  }
 },
 "nbformat": 4,
 "nbformat_minor": 2
}
