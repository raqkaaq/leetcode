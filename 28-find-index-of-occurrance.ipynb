{
 "cells": [
  {
   "cell_type": "markdown",
   "metadata": {},
   "source": [
    "### 28. Find the Index of the First Occurrence in a String\n",
    "Easy\n",
    "\n",
    "Given two strings needle and haystack, return the index of the first occurrence of needle in haystack, or -1 if needle is not part of haystack.\n",
    "\n",
    " \n",
    "\n",
    "Example 1:\n",
    "\n",
    "Input: haystack = \"sadbutsad\", needle = \"sad\"\n",
    "Output: 0\n",
    "Explanation: \"sad\" occurs at index 0 and 6.\n",
    "The first occurrence is at index 0, so we return 0.\n",
    "Example 2:\n",
    "\n",
    "Input: haystack = \"leetcode\", needle = \"leeto\"\n",
    "Output: -1\n",
    "Explanation: \"leeto\" did not occur in \"leetcode\", so we return -1.\n",
    " \n",
    "\n",
    "Constraints:\n",
    "\n",
    "1 <= haystack.length, needle.length <= 104\n",
    "haystack and needle consist of only lowercase English characters."
   ]
  },
  {
   "cell_type": "code",
   "execution_count": null,
   "metadata": {},
   "outputs": [],
   "source": [
    "#use regex easy but slow\n",
    "class Solution:\n",
    "    def strStr(self, haystack: str, needle: str) -> int:\n",
    "        import re\n",
    "        pattern = re.compile(needle)\n",
    "        res = re.search(pattern, haystack)\n",
    "        return res.span()[0] if res else -1\n",
    "    \n",
    "class Solution:\n",
    "    def strStr(self, haystack: str, needle: str)->int:\n",
    "        i,j = 0,0\n",
    "        while i < len(haystack):\n",
    "            #if a character matches, look at the next one\n",
    "            if haystack[i] == needle[j]:\n",
    "                j += 1\n",
    "                i += 1\n",
    "                #if its the len of the needle then we found the first one\n",
    "                if j == len(needle):\n",
    "                    return i - j\n",
    "                continue\n",
    "            #if a character doesnt match, check the next in line, reset j\n",
    "            i -= j\n",
    "            j = 0\n",
    "            i += 1\n",
    "        return -1"
   ]
  },
  {
   "cell_type": "code",
   "execution_count": 26,
   "metadata": {},
   "outputs": [
    {
     "name": "stdout",
     "output_type": "stream",
     "text": [
      "0\n",
      "-1\n"
     ]
    }
   ],
   "source": [
    "sol = Solution()\n",
    "h, n = 'sadbutsad', 'sad'\n",
    "print(sol.strStr(h, n))\n",
    "h,n = 'leetcode', 'leeto'\n",
    "print(sol.strStr(h,n))"
   ]
  },
  {
   "cell_type": "code",
   "execution_count": null,
   "metadata": {},
   "outputs": [],
   "source": []
  }
 ],
 "metadata": {
  "kernelspec": {
   "display_name": "leetcode",
   "language": "python",
   "name": "python3"
  },
  "language_info": {
   "codemirror_mode": {
    "name": "ipython",
    "version": 3
   },
   "file_extension": ".py",
   "mimetype": "text/x-python",
   "name": "python",
   "nbconvert_exporter": "python",
   "pygments_lexer": "ipython3",
   "version": "3.12.7"
  }
 },
 "nbformat": 4,
 "nbformat_minor": 2
}
