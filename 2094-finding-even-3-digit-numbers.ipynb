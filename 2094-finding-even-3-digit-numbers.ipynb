{
 "cells": [
  {
   "cell_type": "markdown",
   "id": "a84f3546",
   "metadata": {},
   "source": [
    "### 2094. Finding 3-Digit Even Numbers\n",
    "Easy\n",
    "\n",
    "Hint\n",
    "You are given an integer array digits, where each element is a digit. The array may contain duplicates.\n",
    "\n",
    "You need to find all the unique integers that follow the given requirements:\n",
    "\n",
    "The integer consists of the concatenation of three elements from digits in any arbitrary order.\n",
    "The integer does not have leading zeros.\n",
    "The integer is even.\n",
    "For example, if the given digits were [1, 2, 3], integers 132 and 312 follow the requirements.\n",
    "\n",
    "Return a sorted array of the unique integers.\n",
    "\n",
    " \n",
    "\n",
    "Example 1:\n",
    "\n",
    "Input: digits = [2,1,3,0]\n",
    "Output: [102,120,130,132,210,230,302,310,312,320]\n",
    "Explanation: All the possible integers that follow the requirements are in the output array. \n",
    "Notice that there are no odd integers or integers with leading zeros.\n",
    "Example 2:\n",
    "\n",
    "Input: digits = [2,2,8,8,2]\n",
    "Output: [222,228,282,288,822,828,882]\n",
    "Explanation: The same digit can be used as many times as it appears in digits. \n",
    "In this example, the digit 8 is used twice each time in 288, 828, and 882. \n",
    "Example 3:\n",
    "\n",
    "Input: digits = [3,7,5]\n",
    "Output: []\n",
    "Explanation: No even integers can be formed using the given digits.\n",
    " \n",
    "\n",
    "Constraints:\n",
    "\n",
    "3 <= digits.length <= 100\n",
    "0 <= digits[i] <= 9"
   ]
  },
  {
   "cell_type": "code",
   "execution_count": 1,
   "id": "e33d0069",
   "metadata": {},
   "outputs": [],
   "source": [
    "from typing import List\n",
    "from collections import Counter\n",
    "class Solution:\n",
    "    def findEvenNumbers(self, digits: List[int]) -> List[int]:\n",
    "        counts = Counter(digits)\n",
    "        evens = {num for num in digits if num % 2 == 0}\n",
    "        starts = {num for num in digits if num != 0}\n",
    "        numbers = set()\n",
    "        for start in starts:\n",
    "            for middle in digits:\n",
    "                for end in evens:\n",
    "                        number = [start,middle,end]\n",
    "                        if Counter(number) <= counts:\n",
    "                            numbers.add(start * 100 + middle * 10 + end)\n",
    "        return sorted(list(numbers))"
   ]
  },
  {
   "cell_type": "code",
   "execution_count": 2,
   "id": "bf241173",
   "metadata": {},
   "outputs": [],
   "source": [
    "sol = Solution()\n",
    "digits = [2,1,3,0]\n",
    "assert sol.findEvenNumbers(digits) == [102,120,130,132,210,230,302,310,312,320]\n",
    "digits = [2,2,8,8,2]\n",
    "assert sol.findEvenNumbers(digits) == [222,228,282,288,822,828,882]"
   ]
  },
  {
   "cell_type": "code",
   "execution_count": 3,
   "id": "3d4819c1",
   "metadata": {},
   "outputs": [],
   "source": [
    "#try to make it with better memory\n",
    "class Solution:\n",
    "    def findEvenNumbers(self, digits: List[int]) -> List[int]:\n",
    "        freq = [0] * 10\n",
    "        for i in digits:\n",
    "            freq[i] += 1\n",
    "        results = []\n",
    "        for i in range(1,10):\n",
    "            if freq[i] == 0:\n",
    "                continue\n",
    "            freq[i] -= 1\n",
    "            for j in range(0,10):\n",
    "                if freq[j] == 0:\n",
    "                    continue\n",
    "                freq[j] -= 1\n",
    "                for k in (0,2,4,6,8):\n",
    "                    if freq[k] > 0:\n",
    "                        results.append(i * 100 + j*10 + k)\n",
    "                freq[j] += 1\n",
    "            freq[i] += 1\n",
    "\n",
    "        return results\n"
   ]
  },
  {
   "cell_type": "code",
   "execution_count": 4,
   "id": "9e7eaf26",
   "metadata": {},
   "outputs": [],
   "source": [
    "sol = Solution()\n",
    "digits = [2,1,3,0]\n",
    "assert sol.findEvenNumbers(digits) == [102,120,130,132,210,230,302,310,312,320]\n",
    "digits = [2,2,8,8,2]\n",
    "assert sol.findEvenNumbers(digits) == [222,228,282,288,822,828,882]"
   ]
  },
  {
   "cell_type": "code",
   "execution_count": null,
   "id": "9329b356",
   "metadata": {},
   "outputs": [],
   "source": []
  }
 ],
 "metadata": {
  "kernelspec": {
   "display_name": "leetcode",
   "language": "python",
   "name": "python3"
  },
  "language_info": {
   "codemirror_mode": {
    "name": "ipython",
    "version": 3
   },
   "file_extension": ".py",
   "mimetype": "text/x-python",
   "name": "python",
   "nbconvert_exporter": "python",
   "pygments_lexer": "ipython3",
   "version": "3.12.7"
  }
 },
 "nbformat": 4,
 "nbformat_minor": 5
}
