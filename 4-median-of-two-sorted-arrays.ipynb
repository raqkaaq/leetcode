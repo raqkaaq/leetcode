{
 "cells": [
  {
   "cell_type": "markdown",
   "metadata": {},
   "source": [
    "## 4. Median of Two Sorted Arrays\n",
    "Hard\n",
    "\n",
    "Given two sorted arrays nums1 and nums2 of size m and n respectively, return the median of the two sorted arrays.\n",
    "\n",
    "The overall run time complexity should be O(log (m+n)).\n",
    "\n",
    " \n",
    "\n",
    "Example 1:\n",
    "\n",
    "Input: nums1 = [1,3], nums2 = [2]\n",
    "Output: 2.00000\n",
    "Explanation: merged array = [1,2,3] and median is 2.\n",
    "Example 2:\n",
    "\n",
    "Input: nums1 = [1,2], nums2 = [3,4]\n",
    "Output: 2.50000\n",
    "Explanation: merged array = [1,2,3,4] and median is (2 + 3) / 2 = 2.5.\n",
    " \n",
    "\n",
    "Constraints:\n",
    "\n",
    "nums1.length == m\n",
    "nums2.length == n\n",
    "0 <= m <= 1000\n",
    "0 <= n <= 1000\n",
    "1 <= m + n <= 2000\n",
    "-106 <= nums1[i], nums2[i] <= 106"
   ]
  },
  {
   "cell_type": "code",
   "execution_count": 5,
   "metadata": {},
   "outputs": [],
   "source": [
    "class Solution:\n",
    "    def findMedianSortedArrays(self, nums1, nums2):\n",
    "        len1 = len(nums1) #len1 is the smaller array\n",
    "        len2 = len(nums2)\n",
    "        if len1 > len2:\n",
    "            len1, len2 = len2, len1\n",
    "            nums2, nums1 = nums1,nums2\n",
    "\n",
    "        t = len1 + len2\n",
    "        half = (t + 1) // 2\n",
    "        #specify for small array\n",
    "        high = len1\n",
    "        low = 0\n",
    "        while True: #if high == low it should pass medium\n",
    "            med1 = (high + low) // 2 #find the mid of the small array\n",
    "            med2 = half - med1 #set the midpoint of the second array to be whatever is left of the necessary halfway - the mid of the first\n",
    "            left1 = nums1[med1 - 1] if med1 > 0 else float('-inf') #the value highest of the left side index of the first array\n",
    "            left2 = nums2[med2 - 1] if med2 > 0 else float('-inf')\n",
    "            right1 = nums1[med1] if med1 < len1 else float('inf')\n",
    "            right2 = nums2[med2] if med2 < len2 else float('inf')\n",
    "\n",
    "            #check if reached right partition\n",
    "            if left1 <= right2 and left2 <= right1: #i.e. everything labeled left is actually left of everything labeled right\n",
    "                if t % 2 == 1: #if odd\n",
    "                    return max(left1, left2) #return the highest of the lefts\n",
    "                else: #if even\n",
    "                    return (max(left1, left2) + min(right1, right2)) / 2 #get the highest left, and the lowest right and get median\n",
    "            if left1 > right2: #the left of array one is higher value of the right of the large array\n",
    "                high = med1 - 1 #then we know the median is between 0 and the middle of small array, so move high\n",
    "            if left2 > right1: #the left of the large array is higher than the right of the small array\n",
    "                low = med1 + 1 #then the median is between the med1 and high, so make low = med"
   ]
  },
  {
   "cell_type": "code",
   "execution_count": 6,
   "metadata": {},
   "outputs": [],
   "source": [
    "sol = Solution()\n",
    "n1,n2,m = [1,3],[2], 2\n",
    "assert(sol.findMedianSortedArrays(n1,n2) == m)\n",
    "n1,n2,m = [1,2],[3,4], 2.5\n",
    "assert(sol.findMedianSortedArrays(n1,n2) == m)"
   ]
  },
  {
   "cell_type": "code",
   "execution_count": null,
   "metadata": {},
   "outputs": [],
   "source": []
  }
 ],
 "metadata": {
  "kernelspec": {
   "display_name": "leetcode",
   "language": "python",
   "name": "python3"
  },
  "language_info": {
   "codemirror_mode": {
    "name": "ipython",
    "version": 3
   },
   "file_extension": ".py",
   "mimetype": "text/x-python",
   "name": "python",
   "nbconvert_exporter": "python",
   "pygments_lexer": "ipython3",
   "version": "3.13.0"
  }
 },
 "nbformat": 4,
 "nbformat_minor": 2
}
