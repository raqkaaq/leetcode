{
 "cells": [
  {
   "cell_type": "markdown",
   "id": "edfffedb",
   "metadata": {},
   "source": [
    "### 3000. Maximum Area of Longest Diagonal Rectangle\n",
    "Easy\n",
    "3000-maximum-area-of-longest-diagonal-rectangle\n",
    "\n",
    "Hint\n",
    "You are given a 2D 0-indexed integer array dimensions.\n",
    "\n",
    "For all indices i, 0 <= i < dimensions.length, dimensions[i][0] represents the length and dimensions[i][1] represents the width of the rectangle i.\n",
    "\n",
    "Return the area of the rectangle having the longest diagonal. If there are multiple rectangles with the longest diagonal, return the area of the rectangle having the maximum area.\n",
    "\n",
    " \n",
    "\n",
    "Example 1:\n",
    "\n",
    "Input: dimensions = [[9,3],[8,6]]\n",
    "Output: 48\n",
    "Explanation: \n",
    "For index = 0, length = 9 and width = 3. Diagonal length = sqrt(9 * 9 + 3 * 3) = sqrt(90) ≈ 9.487.\n",
    "For index = 1, length = 8 and width = 6. Diagonal length = sqrt(8 * 8 + 6 * 6) = sqrt(100) = 10.\n",
    "So, the rectangle at index 1 has a greater diagonal length therefore we return area = 8 * 6 = 48.\n",
    "Example 2:\n",
    "\n",
    "Input: dimensions = [[3,4],[4,3]]\n",
    "Output: 12\n",
    "Explanation: Length of diagonal is the same for both which is 5, so maximum area = 12.\n",
    " \n",
    "\n",
    "Constraints:\n",
    "\n",
    "1 <= dimensions.length <= 100\n",
    "dimensions[i].length == 2\n",
    "1 <= dimensions[i][0], dimensions[i][1] <= 100"
   ]
  },
  {
   "cell_type": "code",
   "execution_count": null,
   "id": "9da94674",
   "metadata": {},
   "outputs": [],
   "source": [
    "from typing import List\n",
    "from math import sqrt\n",
    "class Solution:\n",
    "    def areaOfMaxDiagonal(self, dimensions: List[List[int]]) -> int:\n",
    "        area = 0\n",
    "        diag = 0\n",
    "        for i in range(len(dimensions)):\n",
    "            d = sqrt(dimensions[i][0] ** 2 + dimensions[i][1] ** 2)\n",
    "            a = dimensions[i][0] * dimensions[i][1]\n",
    "            if d > diag:\n",
    "                diag = d\n",
    "                area = a\n",
    "            if d == diag and a > area:\n",
    "                area == a\n",
    "        return area"
   ]
  },
  {
   "cell_type": "code",
   "execution_count": 57,
   "id": "2a9a7c54",
   "metadata": {},
   "outputs": [],
   "source": [
    "sol = Solution()\n",
    "d = [[9,3], [8,6]]\n",
    "assert sol.areaOfMaxDiagonal(d) == 48\n",
    "d = [[3,4],[4,3]]\n",
    "assert sol.areaOfMaxDiagonal(d) == 12\n",
    "d = [[4,7],[8,9],[5,3],[6,10],[2,9],[3,10],[2,2],[5,8],[5,10],[5,6],[8,9],[10,7],[8,9],[3,7],[2,6],[5,1],[7,4],[1,10],[1,7],[6,9],[3,3],[4,6],[8,2],[10,6],[7,9],[9,2],[1,2],[3,8],[10,2],[4,1],[9,7],[10,3],[6,9],[9,8],[7,7],[5,7],[5,4],[6,5],[1,8],[2,3],[7,10],[3,9],[5,7],[2,4],[5,6],[9,5],[8,8],[8,10],[6,8],[5,1],[10,8],[7,4],[2,1],[2,7],[10,3],[2,5],[7,6],[10,5],[10,9],[5,7],[10,6],[4,3],[10,4],[1,5],[8,9],[3,1],[2,5],[9,10],[6,6],[5,10],[10,2],[6,10],[1,1],[8,6],[1,7],[6,3],[9,3],[1,4],[1,1],[10,4],[7,9],[4,5],[2,8],[7,9],[7,3],[4,9],[2,8],[4,6],[9,1],[8,4],[2,4],[7,8],[3,5],[7,6],[8,6],[4,7],[25,60],[39,52],[16,63],[33,56]]\n",
    "# assert sol.areaOfMaxDiagonal(d) == 2028\n",
    "d = [[6,5],[8,6],[2,10],[8,1],[9,2],[3,5],[3,5]]\n",
    "assert sol.areaOfMaxDiagonal(d) == 20\n",
    "\n"
   ]
  },
  {
   "cell_type": "code",
   "execution_count": null,
   "id": "c48a898f",
   "metadata": {},
   "outputs": [],
   "source": []
  }
 ],
 "metadata": {
  "kernelspec": {
   "display_name": "cs479",
   "language": "python",
   "name": "python3"
  },
  "language_info": {
   "codemirror_mode": {
    "name": "ipython",
    "version": 3
   },
   "file_extension": ".py",
   "mimetype": "text/x-python",
   "name": "python",
   "nbconvert_exporter": "python",
   "pygments_lexer": "ipython3",
   "version": "3.10.18"
  }
 },
 "nbformat": 4,
 "nbformat_minor": 5
}
