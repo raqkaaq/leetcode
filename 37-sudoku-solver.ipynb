{
 "cells": [
  {
   "cell_type": "markdown",
   "metadata": {},
   "source": [
    "### 37. Sudoku Solver\n",
    "Hard\n",
    "\n",
    "Write a program to solve a Sudoku puzzle by filling the empty cells.\n",
    "\n",
    "A sudoku solution must satisfy all of the following rules:\n",
    "\n",
    "Each of the digits 1-9 must occur exactly once in each row.\n",
    "Each of the digits 1-9 must occur exactly once in each column.\n",
    "Each of the digits 1-9 must occur exactly once in each of the 9 3x3 sub-boxes of the grid.\n",
    "The '.' character indicates empty cells.\n",
    "\n",
    " \n",
    "\n",
    "Example 1:\n",
    "\n",
    "\n",
    "Input: board = [[\"5\",\"3\",\".\",\".\",\"7\",\".\",\".\",\".\",\".\"],[\"6\",\".\",\".\",\"1\",\"9\",\"5\",\".\",\".\",\".\"],[\".\",\"9\",\"8\",\".\",\".\",\".\",\".\",\"6\",\".\"],[\"8\",\".\",\".\",\".\",\"6\",\".\",\".\",\".\",\"3\"],[\"4\",\".\",\".\",\"8\",\".\",\"3\",\".\",\".\",\"1\"],[\"7\",\".\",\".\",\".\",\"2\",\".\",\".\",\".\",\"6\"],[\".\",\"6\",\".\",\".\",\".\",\".\",\"2\",\"8\",\".\"],[\".\",\".\",\".\",\"4\",\"1\",\"9\",\".\",\".\",\"5\"],[\".\",\".\",\".\",\".\",\"8\",\".\",\".\",\"7\",\"9\"]]\n",
    "Output: [[\"5\",\"3\",\"4\",\"6\",\"7\",\"8\",\"9\",\"1\",\"2\"],[\"6\",\"7\",\"2\",\"1\",\"9\",\"5\",\"3\",\"4\",\"8\"],[\"1\",\"9\",\"8\",\"3\",\"4\",\"2\",\"5\",\"6\",\"7\"],[\"8\",\"5\",\"9\",\"7\",\"6\",\"1\",\"4\",\"2\",\"3\"],[\"4\",\"2\",\"6\",\"8\",\"5\",\"3\",\"7\",\"9\",\"1\"],[\"7\",\"1\",\"3\",\"9\",\"2\",\"4\",\"8\",\"5\",\"6\"],[\"9\",\"6\",\"1\",\"5\",\"3\",\"7\",\"2\",\"8\",\"4\"],[\"2\",\"8\",\"7\",\"4\",\"1\",\"9\",\"6\",\"3\",\"5\"],[\"3\",\"4\",\"5\",\"2\",\"8\",\"6\",\"1\",\"7\",\"9\"]]\n",
    "Explanation: The input board is shown above and the only valid solution is shown below:\n",
    "\n",
    "\n",
    " \n",
    "\n",
    "Constraints:\n",
    "\n",
    "board.length == 9\n",
    "board[i].length == 9\n",
    "board[i][j] is a digit or '.'.\n",
    "It is guaranteed that the input board has only one solution."
   ]
  },
  {
   "cell_type": "code",
   "execution_count": 13,
   "metadata": {},
   "outputs": [],
   "source": [
    "#This does get the right answer, but it is slow and it times out\n",
    "class Solution:\n",
    "    def solveSudoku(self, board: list[list[str]]) -> None:\n",
    "        \"\"\"\n",
    "        Do not return anything, modify board in-place instead.\n",
    "        \"\"\"\n",
    "        #just gonna do brute force, I know there is better more sophisticated ways to do this (dancing links) but I dont know those algorithms\n",
    "        def solve():\n",
    "            for r in range(9):\n",
    "                for c in range(9):\n",
    "                    #if its a ., then it needs a number, just pick one and see if it still works\n",
    "                    if board[r][c] == '.':\n",
    "                        for i in '123456789':\n",
    "                            if isValid(r,c,i):\n",
    "                                board[r][c] = i\n",
    "                                if solve():\n",
    "                                    return True\n",
    "                                board[r][c] = '.'\n",
    "                        return False\n",
    "            return True\n",
    "        \n",
    "        def isValid(r,c,num):\n",
    "            for i in range(9):\n",
    "                if board[r][i] == num or board[i][c] == num:\n",
    "                    return False\n",
    "            #get the index of the upper left of the current box\n",
    "            sr, sc = 3 * (r // 3), 3 * (c // 3)\n",
    "            for i in range(sr, sr + 3):\n",
    "                for j in range(sc, sc + 3):\n",
    "                    if board[i][j] == num:\n",
    "                        return False\n",
    "            return True  \n",
    "        solve()\n",
    "\n",
    "#this is faster, but still times out\n",
    "class Solution:\n",
    "    def solveSudoku(self, board: list[list[str]]) -> None:\n",
    "        def solve():\n",
    "            for r in range(9):\n",
    "                for c in range(9):\n",
    "                    if board[r][c] == '.':\n",
    "                        for i in getPossible(r,c):\n",
    "                            if isValid(r,c,i):\n",
    "                                board[r][c] = i\n",
    "                                if solve():\n",
    "                                    return True\n",
    "                                board[r][c] = '.'\n",
    "                        return False\n",
    "            return True\n",
    "        def isValid(r,c,num):\n",
    "            for i in range(9):\n",
    "                if board[r][i] == num or board[i][c] == num:\n",
    "                    return False\n",
    "            #get the index of the upper left of the current box\n",
    "            sr, sc = 3 * (r // 3), 3 * (c // 3)\n",
    "            for i in range(sr, sr + 3):\n",
    "                for j in range(sc, sc + 3):\n",
    "                    if board[i][j] == num:\n",
    "                        return False\n",
    "            return True  \n",
    "        def getPossible(r,c):\n",
    "            possible = set()\n",
    "            for i in range(9):\n",
    "                if board[r][i] != '.':\n",
    "                    possible.add(board[r][i])\n",
    "                if board[i][c] != '.':\n",
    "                    possible.add(board[i][c])\n",
    "            sr, sc = 3 * (r // 3), 3 * (c // 3)\n",
    "            for i in range(sr, sr + 3):\n",
    "                for j in range(sc, sc + 3):\n",
    "                    if board[i][j] != '.':\n",
    "                        possible.add(board[i][j])\n",
    "            return set('123456789') - possible\n",
    "        solve()\n",
    "\n",
    "#lets try greedy\n",
    "#this approach starts with the best approach first (i.e. the cell that has the least number of possibilities)\n",
    "class Solution:\n",
    "    def solveSudoku(self, board: list[list[str]])->None:\n",
    "        def solve():\n",
    "            best_candidates = []\n",
    "            best_r = -1\n",
    "            best_c = -1\n",
    "            for r in range(9):\n",
    "                for c in range(9):\n",
    "                    if board[r][c] == '.':\n",
    "                        candidates = getPossible(r,c)\n",
    "                        #this can cut down on a lot of tracks, it immediately catches if there are no possibilities for a cell \n",
    "                        if not candidates: return False\n",
    "                        if not best_candidates or len(best_candidates) > len(candidates):\n",
    "                            best_candidates = candidates\n",
    "                            best_r = r\n",
    "                            best_c = c\n",
    "            #this is probably the biggest complexity saver by only running a single path per recursive call\n",
    "            if not best_candidates: return True\n",
    "            for k in best_candidates:\n",
    "                board[best_r][best_c] = k\n",
    "                if solve(): return True\n",
    "            board[best_r][best_c] = '.'\n",
    "\n",
    "        #some alteration was made to this function to conserve memory (doesnt explicity save time complexity but an array of bools is less space than a set of ints)\n",
    "        def getPossible(r,c):\n",
    "            possible = [True] * 9\n",
    "            for i in range(9):\n",
    "                if board[r][i] != '.':\n",
    "                    possible[int(board[r][i]) - 1] = False\n",
    "                if board[i][c] != '.':\n",
    "                    possible[int(board[i][c]) - 1] = False\n",
    "            sr, sc = 3 * (r // 3), 3 * (c // 3)\n",
    "            for i in range(sr, sr + 3):\n",
    "                for j in range(sc, sc + 3):\n",
    "                    if board[i][j] != '.':\n",
    "                        possible[int(board[i][j]) - 1] = False\n",
    "            return {str(i + 1) for i,val in enumerate(possible) if val == True}\n",
    "        solve()"
   ]
  },
  {
   "cell_type": "code",
   "execution_count": 16,
   "metadata": {},
   "outputs": [
    {
     "data": {
      "text/plain": [
       "[['5', '3', '.', '.', '7', '.', '.', '.', '.'],\n",
       " ['6', '.', '.', '1', '9', '5', '.', '.', '.'],\n",
       " ['.', '9', '8', '.', '.', '.', '.', '6', '.'],\n",
       " ['8', '.', '.', '.', '6', '.', '.', '.', '3'],\n",
       " ['4', '.', '.', '8', '.', '3', '.', '.', '1'],\n",
       " ['7', '.', '.', '.', '2', '.', '.', '.', '6'],\n",
       " ['.', '6', '.', '.', '.', '.', '2', '8', '.'],\n",
       " ['.', '.', '.', '4', '1', '9', '.', '.', '5'],\n",
       " ['.', '.', '.', '.', '8', '.', '.', '7', '9']]"
      ]
     },
     "metadata": {},
     "output_type": "display_data"
    },
    {
     "data": {
      "text/plain": [
       "[['5', '3', '4', '6', '7', '8', '9', '1', '2'],\n",
       " ['6', '7', '2', '1', '9', '5', '3', '4', '8'],\n",
       " ['1', '9', '8', '3', '4', '2', '5', '6', '7'],\n",
       " ['8', '5', '9', '7', '6', '1', '4', '2', '3'],\n",
       " ['4', '2', '6', '8', '5', '3', '7', '9', '1'],\n",
       " ['7', '1', '3', '9', '2', '4', '8', '5', '6'],\n",
       " ['9', '6', '1', '5', '3', '7', '2', '8', '4'],\n",
       " ['2', '8', '7', '4', '1', '9', '6', '3', '5'],\n",
       " ['3', '4', '5', '2', '8', '6', '1', '7', '9']]"
      ]
     },
     "metadata": {},
     "output_type": "display_data"
    }
   ],
   "source": [
    "sol = Solution()\n",
    "board = [[\"5\",\"3\",\".\",\".\",\"7\",\".\",\".\",\".\",\".\"],[\"6\",\".\",\".\",\"1\",\"9\",\"5\",\".\",\".\",\".\"],[\".\",\"9\",\"8\",\".\",\".\",\".\",\".\",\"6\",\".\"],[\"8\",\".\",\".\",\".\",\"6\",\".\",\".\",\".\",\"3\"],[\"4\",\".\",\".\",\"8\",\".\",\"3\",\".\",\".\",\"1\"],[\"7\",\".\",\".\",\".\",\"2\",\".\",\".\",\".\",\"6\"],[\".\",\"6\",\".\",\".\",\".\",\".\",\"2\",\"8\",\".\"],[\".\",\".\",\".\",\"4\",\"1\",\"9\",\".\",\".\",\"5\"],[\".\",\".\",\".\",\".\",\"8\",\".\",\".\",\"7\",\"9\"]]\n",
    "display(board)\n",
    "display()\n",
    "sol.solveSudoku(board)\n",
    "display(board)"
   ]
  },
  {
   "cell_type": "code",
   "execution_count": 17,
   "metadata": {},
   "outputs": [
    {
     "data": {
      "text/plain": [
       "[['.', '.', '.', '.', '.', '.', '.', '.', '.'],\n",
       " ['.', '9', '.', '.', '1', '.', '.', '3', '.'],\n",
       " ['.', '.', '6', '.', '2', '.', '7', '.', '.'],\n",
       " ['.', '.', '.', '3', '.', '4', '.', '.', '.'],\n",
       " ['2', '1', '.', '.', '.', '.', '.', '9', '8'],\n",
       " ['.', '.', '.', '.', '.', '.', '.', '.', '.'],\n",
       " ['.', '.', '2', '5', '.', '6', '4', '.', '.'],\n",
       " ['.', '8', '.', '.', '.', '.', '.', '1', '.'],\n",
       " ['.', '.', '.', '.', '.', '.', '.', '.', '.']]"
      ]
     },
     "metadata": {},
     "output_type": "display_data"
    },
    {
     "data": {
      "text/plain": [
       "[['7', '2', '1', '8', '5', '3', '9', '4', '6'],\n",
       " ['4', '9', '5', '6', '1', '7', '8', '3', '2'],\n",
       " ['8', '3', '6', '4', '2', '9', '7', '5', '1'],\n",
       " ['9', '6', '7', '3', '8', '4', '1', '2', '5'],\n",
       " ['2', '1', '4', '7', '6', '5', '3', '9', '8'],\n",
       " ['3', '5', '8', '2', '9', '1', '6', '7', '4'],\n",
       " ['1', '7', '2', '5', '3', '6', '4', '8', '9'],\n",
       " ['6', '8', '3', '9', '4', '2', '5', '1', '7'],\n",
       " ['5', '4', '9', '1', '7', '8', '2', '6', '3']]"
      ]
     },
     "metadata": {},
     "output_type": "display_data"
    }
   ],
   "source": [
    "board = [[\".\",\".\",\".\",\".\",\".\",\".\",\".\",\".\",\".\"],[\".\",\"9\",\".\",\".\",\"1\",\".\",\".\",\"3\",\".\"],[\".\",\".\",\"6\",\".\",\"2\",\".\",\"7\",\".\",\".\"],[\".\",\".\",\".\",\"3\",\".\",\"4\",\".\",\".\",\".\"],[\"2\",\"1\",\".\",\".\",\".\",\".\",\".\",\"9\",\"8\"],[\".\",\".\",\".\",\".\",\".\",\".\",\".\",\".\",\".\"],[\".\",\".\",\"2\",\"5\",\".\",\"6\",\"4\",\".\",\".\"],[\".\",\"8\",\".\",\".\",\".\",\".\",\".\",\"1\",\".\"],[\".\",\".\",\".\",\".\",\".\",\".\",\".\",\".\",\".\"]]\n",
    "display(board)\n",
    "display()\n",
    "sol.solveSudoku(board)\n",
    "display(board)"
   ]
  },
  {
   "cell_type": "code",
   "execution_count": null,
   "metadata": {},
   "outputs": [],
   "source": []
  },
  {
   "cell_type": "code",
   "execution_count": null,
   "metadata": {},
   "outputs": [],
   "source": []
  }
 ],
 "metadata": {
  "kernelspec": {
   "display_name": "leetcode",
   "language": "python",
   "name": "python3"
  },
  "language_info": {
   "codemirror_mode": {
    "name": "ipython",
    "version": 3
   },
   "file_extension": ".py",
   "mimetype": "text/x-python",
   "name": "python",
   "nbconvert_exporter": "python",
   "pygments_lexer": "ipython3",
   "version": "3.12.7"
  }
 },
 "nbformat": 4,
 "nbformat_minor": 2
}
