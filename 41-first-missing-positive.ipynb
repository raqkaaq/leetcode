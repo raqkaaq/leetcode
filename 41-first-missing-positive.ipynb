{
 "cells": [
  {
   "cell_type": "markdown",
   "metadata": {},
   "source": [
    "### 41. First Missing Positive\n",
    "Hard\n",
    "\n",
    "Given an unsorted integer array nums. Return the smallest positive integer that is not present in nums.\n",
    "\n",
    "You must implement an algorithm that runs in O(n) time and uses O(1) auxiliary space.\n",
    "\n",
    " \n",
    "\n",
    "Example 1:\n",
    "\n",
    "Input: nums = [1,2,0]\n",
    "Output: 3\n",
    "Explanation: The numbers in the range [1,2] are all in the array.\n",
    "Example 2:\n",
    "\n",
    "Input: nums = [3,4,-1,1]\n",
    "Output: 2\n",
    "Explanation: 1 is in the array but 2 is missing.\n",
    "Example 3:\n",
    "\n",
    "Input: nums = [7,8,9,11,12]\n",
    "Output: 1\n",
    "Explanation: The smallest positive integer 1 is missing.\n",
    " \n",
    "\n",
    "Constraints:\n",
    "\n",
    "1 <= nums.length <= 105\n",
    "-231 <= nums[i] <= 231 - 1"
   ]
  },
  {
   "cell_type": "code",
   "execution_count": 1,
   "metadata": {},
   "outputs": [],
   "source": [
    "class Solution:\n",
    "    def firstMissingPositive(self, nums: list[int]) -> int:\n",
    "        for i in range(len(nums)):\n",
    "            while 1 <= nums[i] <= len(nums) and nums[nums[i] - 1] != nums[i]:\n",
    "                nums[nums[i] - 1], nums[i] = nums[i], nums[nums[i] - 1]\n",
    "        #the first 0 value is that of the solution\n",
    "        print(nums)\n",
    "        for i in range(len(nums)):\n",
    "            if nums[i] != i + 1:\n",
    "                return i + 1\n",
    "        #if no 0 values, then return the length of the array + 1 since this means that the array contains every int\n",
    "        return len(nums) + 1"
   ]
  },
  {
   "cell_type": "code",
   "execution_count": 2,
   "metadata": {},
   "outputs": [
    {
     "name": "stdout",
     "output_type": "stream",
     "text": [
      "[1, 2, 0]\n",
      "3\n"
     ]
    }
   ],
   "source": [
    "sol = Solution()\n",
    "nums = [1,2,0]\n",
    "print(sol.firstMissingPositive(nums))"
   ]
  },
  {
   "cell_type": "code",
   "execution_count": 3,
   "metadata": {},
   "outputs": [
    {
     "name": "stdout",
     "output_type": "stream",
     "text": [
      "[1, 2, 3, 6, 5]\n",
      "4\n"
     ]
    }
   ],
   "source": [
    "nums = [1,2,3,5,6]\n",
    "print(sol.firstMissingPositive(nums))"
   ]
  },
  {
   "cell_type": "code",
   "execution_count": 4,
   "metadata": {},
   "outputs": [
    {
     "name": "stdout",
     "output_type": "stream",
     "text": [
      "[7, 8, 9, 11, 12]\n",
      "1\n"
     ]
    }
   ],
   "source": [
    "nums = [7,8,9,11,12]\n",
    "print(sol.firstMissingPositive(nums))"
   ]
  },
  {
   "cell_type": "code",
   "execution_count": 5,
   "metadata": {},
   "outputs": [
    {
     "name": "stdout",
     "output_type": "stream",
     "text": [
      "[1, -1, 3, 4]\n",
      "2\n"
     ]
    }
   ],
   "source": [
    "nums = [3,4,-1,1]\n",
    "print(sol.firstMissingPositive(nums))"
   ]
  },
  {
   "cell_type": "code",
   "execution_count": 6,
   "metadata": {},
   "outputs": [
    {
     "name": "stdout",
     "output_type": "stream",
     "text": [
      "[1, 2, 3, 4]\n",
      "5\n"
     ]
    }
   ],
   "source": [
    "nums = [4,3,2,1]\n",
    "print(sol.firstMissingPositive(nums))"
   ]
  },
  {
   "cell_type": "code",
   "execution_count": 7,
   "metadata": {},
   "outputs": [
    {
     "name": "stdout",
     "output_type": "stream",
     "text": [
      "[1, 2, 3, 4, 5, -1]\n",
      "6\n"
     ]
    }
   ],
   "source": [
    "nums = [5,4,3,2,1,-1]\n",
    "print(sol.firstMissingPositive(nums))"
   ]
  },
  {
   "cell_type": "code",
   "execution_count": 8,
   "metadata": {},
   "outputs": [
    {
     "name": "stdout",
     "output_type": "stream",
     "text": [
      "[1]\n",
      "2\n"
     ]
    }
   ],
   "source": [
    "nums = [1]\n",
    "print(sol.firstMissingPositive(nums))"
   ]
  },
  {
   "cell_type": "code",
   "execution_count": 9,
   "metadata": {},
   "outputs": [
    {
     "name": "stdout",
     "output_type": "stream",
     "text": [
      "[1, 2, 3]\n",
      "4\n"
     ]
    }
   ],
   "source": [
    "nums = [3,2,1]\n",
    "print(sol.firstMissingPositive(nums))"
   ]
  },
  {
   "cell_type": "code",
   "execution_count": 10,
   "metadata": {},
   "outputs": [
    {
     "name": "stdout",
     "output_type": "stream",
     "text": [
      "[1, 2, -1, 4, 9, 10]\n",
      "3\n"
     ]
    }
   ],
   "source": [
    "nums = [-1,4,2,1,9,10]\n",
    "print(sol.firstMissingPositive(nums))"
   ]
  },
  {
   "cell_type": "code",
   "execution_count": null,
   "metadata": {},
   "outputs": [],
   "source": []
  }
 ],
 "metadata": {
  "kernelspec": {
   "display_name": "leetcode",
   "language": "python",
   "name": "python3"
  },
  "language_info": {
   "codemirror_mode": {
    "name": "ipython",
    "version": 3
   },
   "file_extension": ".py",
   "mimetype": "text/x-python",
   "name": "python",
   "nbconvert_exporter": "python",
   "pygments_lexer": "ipython3",
   "version": "3.12.7"
  }
 },
 "nbformat": 4,
 "nbformat_minor": 2
}
