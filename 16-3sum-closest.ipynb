{
 "cells": [
  {
   "cell_type": "markdown",
   "metadata": {},
   "source": [
    "### 16. 3Sum Closest\n",
    "Medium\n",
    "\n",
    "Given an integer array nums of length n and an integer target, find three integers in nums such that the sum is closest to target.\n",
    "\n",
    "Return the sum of the three integers.\n",
    "\n",
    "You may assume that each input would have exactly one solution.\n",
    "\n",
    " \n",
    "\n",
    "Example 1:\n",
    "\n",
    "Input: nums = [-1,2,1,-4], target = 1\n",
    "Output: 2\n",
    "Explanation: The sum that is closest to the target is 2. (-1 + 2 + 1 = 2).\n",
    "Example 2:\n",
    "\n",
    "Input: nums = [0,0,0], target = 1\n",
    "Output: 0\n",
    "Explanation: The sum that is closest to the target is 0. (0 + 0 + 0 = 0).\n",
    " \n",
    "\n",
    "Constraints:\n",
    "\n",
    "3 <= nums.length <= 500\n",
    "-1000 <= nums[i] <= 1000\n",
    "-104 <= target <= 104"
   ]
  },
  {
   "cell_type": "code",
   "execution_count": 17,
   "metadata": {},
   "outputs": [],
   "source": [
    "class Solution:\n",
    "    def threeSumClosest(self, nums: list[int], target: int) -> int:\n",
    "        nums.sort()\n",
    "        difference = float('inf')\n",
    "        current = []\n",
    "        for i,n in enumerate(nums):\n",
    "            l,r = i + 1, len(nums) - 1\n",
    "            while l < r:\n",
    "                if i == l:\n",
    "                    l += 1\n",
    "                elif i == r:\n",
    "                    r -= 1\n",
    "                    continue\n",
    "                check = n + nums[l] + nums[r]\n",
    "                if abs(check - target) < difference:\n",
    "                    difference = abs(check - target)\n",
    "                    current = check\n",
    "                elif check > target:\n",
    "                    r -= 1\n",
    "                else:\n",
    "                    l += 1\n",
    "        return current"
   ]
  },
  {
   "cell_type": "code",
   "execution_count": 18,
   "metadata": {},
   "outputs": [
    {
     "name": "stdout",
     "output_type": "stream",
     "text": [
      "2\n"
     ]
    }
   ],
   "source": [
    "sol = Solution()\n",
    "n,t = [-1,2,1,-4],1\n",
    "print(sol.threeSumClosest(n,t))"
   ]
  },
  {
   "cell_type": "code",
   "execution_count": null,
   "metadata": {},
   "outputs": [],
   "source": []
  }
 ],
 "metadata": {
  "kernelspec": {
   "display_name": "leetcode",
   "language": "python",
   "name": "python3"
  },
  "language_info": {
   "codemirror_mode": {
    "name": "ipython",
    "version": 3
   },
   "file_extension": ".py",
   "mimetype": "text/x-python",
   "name": "python",
   "nbconvert_exporter": "python",
   "pygments_lexer": "ipython3",
   "version": "3.12.7"
  }
 },
 "nbformat": 4,
 "nbformat_minor": 2
}
