{
 "cells": [
  {
   "cell_type": "markdown",
   "id": "283f86ab",
   "metadata": {},
   "source": [
    "### 3024. Type of Triangle\n",
    "Easy\n",
    "\n",
    "Hint\n",
    "You are given a 0-indexed integer array nums of size 3 which can form the sides of a triangle.\n",
    "\n",
    "A triangle is called equilateral if it has all sides of equal length.\n",
    "A triangle is called isosceles if it has exactly two sides of equal length.\n",
    "A triangle is called scalene if all its sides are of different lengths.\n",
    "Return a string representing the type of triangle that can be formed or \"none\" if it cannot form a triangle.\n",
    "\n",
    " \n",
    "\n",
    "Example 1:\n",
    "\n",
    "Input: nums = [3,3,3]\n",
    "Output: \"equilateral\"\n",
    "Explanation: Since all the sides are of equal length, therefore, it will form an equilateral triangle.\n",
    "Example 2:\n",
    "\n",
    "Input: nums = [3,4,5]\n",
    "Output: \"scalene\"\n",
    "Explanation: \n",
    "nums[0] + nums[1] = 3 + 4 = 7, which is greater than nums[2] = 5.\n",
    "nums[0] + nums[2] = 3 + 5 = 8, which is greater than nums[1] = 4.\n",
    "nums[1] + nums[2] = 4 + 5 = 9, which is greater than nums[0] = 3. \n",
    "Since the sum of the two sides is greater than the third side for all three cases, therefore, it can form a triangle.\n",
    "As all the sides are of different lengths, it will form a scalene triangle.\n",
    " \n",
    "\n",
    "Constraints:\n",
    "\n",
    "nums.length == 3\n",
    "1 <= nums[i] <= 100"
   ]
  },
  {
   "cell_type": "code",
   "execution_count": 31,
   "id": "c1ebf867",
   "metadata": {},
   "outputs": [],
   "source": [
    "from typing import List\n",
    "class Solution:\n",
    "    def triangleType(self, nums: List[int])->str:\n",
    "        if nums[0] == nums[1] == nums[2]:\n",
    "            return \"equilateral\"\n",
    "        if nums[0]+ nums[1] > nums[2] and nums[1] + nums[2]> nums[0] and nums[0] + nums[2] > nums[1]:\n",
    "            if nums[0] == nums[1]  or nums[0] == nums[2] or nums[1] == nums[2]:\n",
    "                return \"isosceles\"\n",
    "            return \"scalene\"\n",
    "        return \"none\"\n"
   ]
  },
  {
   "cell_type": "code",
   "execution_count": 32,
   "id": "4d20229e",
   "metadata": {},
   "outputs": [],
   "source": [
    "sol = Solution()\n",
    "nums = [3,3,3]\n",
    "assert sol.triangleType(nums) == \"equilateral\"\n",
    "nums = [5,3,5]\n",
    "assert sol.triangleType(nums) == \"isosceles\"\n",
    "nums = [3,4,5]\n",
    "assert sol.triangleType(nums) == \"scalene\" \n",
    "nums = [8, 4, 4]\n",
    "assert sol.triangleType(nums) == \"none\""
   ]
  },
  {
   "cell_type": "code",
   "execution_count": 29,
   "id": "105ceeb5",
   "metadata": {},
   "outputs": [],
   "source": [
    "from collections import Counter\n",
    "class Solution:\n",
    "    def triangleType(self, nums: List[int])->str:\n",
    "        nums = sorted(nums)\n",
    "        if nums[2] >= nums[1] + nums[0]:\n",
    "            return \"none\"\n",
    "        counts = Counter(nums)\n",
    "        for count in counts.values():\n",
    "            if count == 3:\n",
    "                return \"equilateral\"\n",
    "            if count == 2:\n",
    "                return \"isosceles\"\n",
    "        return \"scalene\"\n",
    "            "
   ]
  }
 ],
 "metadata": {
  "kernelspec": {
   "display_name": "leetcode",
   "language": "python",
   "name": "python3"
  },
  "language_info": {
   "codemirror_mode": {
    "name": "ipython",
    "version": 3
   },
   "file_extension": ".py",
   "mimetype": "text/x-python",
   "name": "python",
   "nbconvert_exporter": "python",
   "pygments_lexer": "ipython3",
   "version": "3.12.7"
  }
 },
 "nbformat": 4,
 "nbformat_minor": 5
}
