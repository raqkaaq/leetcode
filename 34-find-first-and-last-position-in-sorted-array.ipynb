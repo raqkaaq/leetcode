{
 "cells": [
  {
   "cell_type": "markdown",
   "metadata": {},
   "source": [
    "\n",
    "\n",
    "### 34. Find First and Last Position of Element in Sorted Array\n",
    "Medium\n",
    "\n",
    "Given an array of integers nums sorted in non-decreasing order, find the starting and ending position of a given target value.\n",
    "\n",
    "If target is not found in the array, return [-1, -1].\n",
    "\n",
    "You must write an algorithm with O(log n) runtime complexity.\n",
    "\n",
    " \n",
    "\n",
    "Example 1:\n",
    "\n",
    "Input: nums = [5,7,7,8,8,10], target = 8\n",
    "Output: [3,4]\n",
    "Example 2:\n",
    "\n",
    "Input: nums = [5,7,7,8,8,10], target = 6\n",
    "Output: [-1,-1]\n",
    "Example 3:\n",
    "\n",
    "Input: nums = [], target = 0\n",
    "Output: [-1,-1]\n",
    " \n",
    "\n",
    "Constraints:\n",
    "\n",
    "0 <= nums.length <= 105\n",
    "-109 <= nums[i] <= 109\n",
    "nums is a non-decreasing array.\n",
    "-109 <= target <= 109"
   ]
  },
  {
   "cell_type": "code",
   "execution_count": 1,
   "metadata": {},
   "outputs": [],
   "source": [
    "#use a binary search to get the lower and upper bounds respectively\n",
    "class Solution:\n",
    "    def searchRange(self, nums: list[int], target: int) -> list[int]:\n",
    "        if len(nums) == 0:\n",
    "            return [-1,-1]\n",
    "        if len(nums) == 1:\n",
    "            if nums[0] == target:\n",
    "                return [0,0]\n",
    "            else:\n",
    "                return [-1,-1]\n",
    "        #find lower bound\n",
    "        low,high = 0, len(nums) - 1\n",
    "        lb = len(nums) - 1\n",
    "        while low <= high:\n",
    "            mid = low + (high - low) // 2\n",
    "            if nums[mid] >= target:\n",
    "                lb = mid\n",
    "                high = mid - 1\n",
    "            else:\n",
    "                low = mid + 1\n",
    "        ub = len(nums) - 1\n",
    "        low, high = lb, len(nums) - 1\n",
    "        while low <=  high:\n",
    "            mid = low + (high - low) // 2\n",
    "            if nums[mid] <= target:\n",
    "                ub = mid\n",
    "                low = mid + 1\n",
    "            else:\n",
    "                high = mid - 1\n",
    "        if nums[lb] != target:\n",
    "            lb = ub = -1\n",
    "        return [lb,ub]\n",
    "        "
   ]
  },
  {
   "cell_type": "code",
   "execution_count": 2,
   "metadata": {},
   "outputs": [
    {
     "name": "stdout",
     "output_type": "stream",
     "text": [
      "[3, 4]\n"
     ]
    }
   ],
   "source": [
    "sol = Solution()\n",
    "n,t=[5,7,7,8,8,10],8\n",
    "print(sol.searchRange(n,t))"
   ]
  },
  {
   "cell_type": "code",
   "execution_count": 3,
   "metadata": {},
   "outputs": [
    {
     "name": "stdout",
     "output_type": "stream",
     "text": [
      "[-1, -1]\n"
     ]
    }
   ],
   "source": [
    "n,t=[5,7,7,8,8,10],6\n",
    "print(sol.searchRange(n,t))"
   ]
  },
  {
   "cell_type": "code",
   "execution_count": 4,
   "metadata": {},
   "outputs": [
    {
     "name": "stdout",
     "output_type": "stream",
     "text": [
      "[-1, -1]\n"
     ]
    }
   ],
   "source": [
    "n,t = [2,2], 3\n",
    "print(sol.searchRange(n,t))"
   ]
  }
 ],
 "metadata": {
  "kernelspec": {
   "display_name": "leetcode",
   "language": "python",
   "name": "python3"
  },
  "language_info": {
   "codemirror_mode": {
    "name": "ipython",
    "version": 3
   },
   "file_extension": ".py",
   "mimetype": "text/x-python",
   "name": "python",
   "nbconvert_exporter": "python",
   "pygments_lexer": "ipython3",
   "version": "3.13.0"
  }
 },
 "nbformat": 4,
 "nbformat_minor": 2
}
