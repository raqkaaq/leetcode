{
 "cells": [
  {
   "cell_type": "markdown",
   "metadata": {},
   "source": [
    "## 2. Add Two Numbers\n",
    "\n",
    "You are given two non-empty linked lists representing two non-negative integers. The digits are stored in reverse order, and each of their nodes contains a single digit. Add the two numbers and return the sum as a linked list.\n",
    "\n",
    "You may assume the two numbers do not contain any leading zero, except the number 0 itself.\n",
    "\n",
    " \n",
    "\n",
    "Example 1:\n",
    "\n",
    "\n",
    "Input: l1 = [2,4,3], l2 = [5,6,4]\n",
    "Output: [7,0,8]\n",
    "Explanation: 342 + 465 = 807.\n",
    "Example 2:\n",
    "\n",
    "Input: l1 = [0], l2 = [0]\n",
    "Output: [0]\n",
    "Example 3:\n",
    "\n",
    "Input: l1 = [9,9,9,9,9,9,9], l2 = [9,9,9,9]\n",
    "Output: [8,9,9,9,0,0,0,1]\n",
    " \n",
    "\n",
    "Constraints:\n",
    "\n",
    "The number of nodes in each linked list is in the range [1, 100].\n",
    "0 <= Node.val <= 9\n",
    "It is guaranteed that the list represents a number that does not have leading zeros."
   ]
  },
  {
   "cell_type": "code",
   "execution_count": 1,
   "metadata": {},
   "outputs": [],
   "source": [
    "# # Definition for singly-linked list.\n",
    "# # class ListNode:\n",
    "# #     def __init__(self, val=0, next=None):\n",
    "# #         self.val = val\n",
    "# #         self.next = next\n",
    "# class Solution:\n",
    "#     def addTwoNumbers(self, l1: Optional[ListNode], l2: Optional[ListNode]) -> Optional[ListNode]:"
   ]
  },
  {
   "cell_type": "code",
   "execution_count": 4,
   "metadata": {},
   "outputs": [],
   "source": [
    "#one solution would be to build the numbers, add them, then build a linked list out of them, ez\n",
    "#alteratively would need to add two lists together into a third list\n",
    "#or change list1 to be the output list and go\n",
    "class ListNode:\n",
    "    def __init__(self, val=0, next=None):\n",
    "        self.val = val\n",
    "        self.next = next\n",
    "    def __str__(self):\n",
    "        node1 = self\n",
    "        list = []\n",
    "        while node1:\n",
    "            list.append(node1.val)\n",
    "            node1 = node1.next\n",
    "        return str(list)\n",
    "    def __eq__(self, l2):\n",
    "        if type(l2) != ListNode:\n",
    "            return False\n",
    "        node1, node2 = self, l2\n",
    "        try:\n",
    "            while node1 and node2:\n",
    "                if node1.val != node2.val:\n",
    "                    return False\n",
    "                node1 = node1.next\n",
    "                node2 = node2.next\n",
    "        except:\n",
    "            return False\n",
    "        if node1 or node2:\n",
    "            return False\n",
    "        return True\n",
    "\n",
    "class Solution:\n",
    "    def addTwoNumbers(self, l1: ListNode, l2: ListNode)->ListNode:\n",
    "        #cases in which the addtion ends are if l1 has more terms, l2 has more terms, or there is a carry term from them\n",
    "        node1, node2 = l1, l2 #start nodes at the head\n",
    "        carry = 0\n",
    "        newlist = ListNode(0)\n",
    "        tail = newlist\n",
    "        while node1 != None or node2 != None or carry != 0:\n",
    "            num = carry + (node1.val if node1 else 0) + (node2.val if node2 else 0)\n",
    "            carry = num // 10\n",
    "            num = num % 10\n",
    "            tail.next = ListNode(num)\n",
    "            tail = tail.next\n",
    "            node1 = node1.next if node1 else None\n",
    "            node2 = node2.next if node2 else None\n",
    "        return newlist.next"
   ]
  },
  {
   "cell_type": "code",
   "execution_count": 5,
   "metadata": {},
   "outputs": [],
   "source": [
    "sol = Solution()\n",
    "l1,l2, opt = ListNode(2,ListNode(4,ListNode(3))), ListNode(5,ListNode(6,ListNode(4))), ListNode(7,ListNode(0,ListNode(8)))\n",
    "assert(sol.addTwoNumbers(l1,l2) == opt)\n",
    "l1,l2, opt = ListNode(0), ListNode(0), ListNode(0)\n",
    "assert(sol.addTwoNumbers(l1,l2) == opt)\n",
    "l1,l2, opt = ListNode(9,ListNode(9,ListNode(9,ListNode(9,ListNode(9,ListNode(9,ListNode(9))))))), ListNode(9,ListNode(9,ListNode(9,ListNode(9)))), ListNode(8,ListNode(9,ListNode(9,ListNode(9,ListNode(0,ListNode(0,ListNode(0,ListNode(1))))))))\n",
    "assert(sol.addTwoNumbers(l1,l2) == opt)\n",
    "l1,l2, opt = ListNode(2,ListNode(4,ListNode(9))), ListNode(5,ListNode(6, ListNode(4, ListNode(9)))), ListNode(7,ListNode(0,ListNode(4,ListNode(0,ListNode(1)))))\n",
    "assert(sol.addTwoNumbers(l1,l2) == opt)\n",
    "\n"
   ]
  },
  {
   "cell_type": "code",
   "execution_count": null,
   "metadata": {},
   "outputs": [],
   "source": []
  }
 ],
 "metadata": {
  "kernelspec": {
   "display_name": "leetcode",
   "language": "python",
   "name": "python3"
  },
  "language_info": {
   "codemirror_mode": {
    "name": "ipython",
    "version": 3
   },
   "file_extension": ".py",
   "mimetype": "text/x-python",
   "name": "python",
   "nbconvert_exporter": "python",
   "pygments_lexer": "ipython3",
   "version": "3.12.7"
  }
 },
 "nbformat": 4,
 "nbformat_minor": 2
}
