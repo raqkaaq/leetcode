{
 "cells": [
  {
   "cell_type": "markdown",
   "metadata": {},
   "source": [
    "### 22. Generate Parentheses\n",
    "Medium\n",
    "\n",
    "Given n pairs of parentheses, write a function to generate all combinations of well-formed parentheses.\n",
    "\n",
    " \n",
    "\n",
    "Example 1:\n",
    "\n",
    "Input: n = 3\n",
    "Output: [\"((()))\",\"(()())\",\"(())()\",\"()(())\",\"()()()\"]\n",
    "Example 2:\n",
    "\n",
    "Input: n = 1\n",
    "Output: [\"()\"]\n",
    " \n",
    "\n",
    "Constraints:\n",
    "\n",
    "1 <= n <= 8"
   ]
  },
  {
   "cell_type": "code",
   "execution_count": 63,
   "metadata": {},
   "outputs": [],
   "source": [
    "class Solution:\n",
    "    def generateParenthesis(self, n: int) -> list[str]:\n",
    "        ans = []\n",
    "        def DFS(s, close, open):\n",
    "            #the number s is the number of individual characters\n",
    "            if len(s) == 2*n:\n",
    "                ans.append(s)\n",
    "                return\n",
    "            #the following have to be if statements to allow both to be followed simultaneously, otherwise only '()'^n is produced\n",
    "            if close < open:\n",
    "                DFS(s + ')', close + 1, open)\n",
    "            if open < n:\n",
    "                DFS(s + '(', close, open + 1)\n",
    "        DFS('', 0, 0)\n",
    "        return ans\n"
   ]
  },
  {
   "cell_type": "code",
   "execution_count": 65,
   "metadata": {},
   "outputs": [
    {
     "name": "stdout",
     "output_type": "stream",
     "text": [
      "['()']\n",
      "['()()', '(())']\n",
      "['()()()()()', '()()()(())', '()()(())()', '()()(()())', '()()((()))', '()(())()()', '()(())(())', '()(()())()', '()(()()())', '()(()(()))', '()((()))()', '()((())())', '()((()()))', '()(((())))', '(())()()()', '(())()(())', '(())(())()', '(())(()())', '(())((()))', '(()())()()', '(()())(())', '(()()())()', '(()()()())', '(()()(()))', '(()(()))()', '(()(())())', '(()(()()))', '(()((())))', '((()))()()', '((()))(())', '((())())()', '((())()())', '((())(()))', '((()()))()', '((()())())', '((()()()))', '((()(())))', '(((())))()', '(((()))())', '(((())()))', '(((()())))', '((((()))))']\n"
     ]
    }
   ],
   "source": [
    "sol = Solution()\n",
    "n = 1\n",
    "print(sol.generateParenthesis(n))\n",
    "n = 2\n",
    "print(sol.generateParenthesis(n))\n",
    "n = 5\n",
    "print(sol.generateParenthesis(n))"
   ]
  },
  {
   "cell_type": "code",
   "execution_count": null,
   "metadata": {},
   "outputs": [],
   "source": []
  }
 ],
 "metadata": {
  "kernelspec": {
   "display_name": "leetcode",
   "language": "python",
   "name": "python3"
  },
  "language_info": {
   "codemirror_mode": {
    "name": "ipython",
    "version": 3
   },
   "file_extension": ".py",
   "mimetype": "text/x-python",
   "name": "python",
   "nbconvert_exporter": "python",
   "pygments_lexer": "ipython3",
   "version": "3.12.7"
  }
 },
 "nbformat": 4,
 "nbformat_minor": 2
}
