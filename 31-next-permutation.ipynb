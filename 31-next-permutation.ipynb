{
 "cells": [
  {
   "cell_type": "markdown",
   "metadata": {},
   "source": [
    "### 31. Next Permutation\n",
    "Medium\n",
    "\n",
    "A permutation of an array of integers is an arrangement of its members into a sequence or linear order.\n",
    "\n",
    "For example, for arr = [1,2,3], the following are all the permutations of arr: [1,2,3], [1,3,2], [2, 1, 3], [2, 3, 1], [3,1,2], [3,2,1].\n",
    "The next permutation of an array of integers is the next lexicographically greater permutation of its integer. More formally, if all the permutations of the array are sorted in one container according to their lexicographical order, then the next permutation of that array is the permutation that follows it in the sorted container. If such arrangement is not possible, the array must be rearranged as the lowest possible order (i.e., sorted in ascending order).\n",
    "\n",
    "For example, the next permutation of arr = [1,2,3] is [1,3,2].\n",
    "Similarly, the next permutation of arr = [2,3,1] is [3,1,2].\n",
    "While the next permutation of arr = [3,2,1] is [1,2,3] because [3,2,1] does not have a lexicographical larger rearrangement.\n",
    "Given an array of integers nums, find the next permutation of nums.\n",
    "\n",
    "The replacement must be in place and use only constant extra memory.\n",
    "\n",
    " \n",
    "\n",
    "Example 1:\n",
    "\n",
    "Input: nums = [1,2,3]\n",
    "Output: [1,3,2]\n",
    "Example 2:\n",
    "\n",
    "Input: nums = [3,2,1]\n",
    "Output: [1,2,3]\n",
    "Example 3:\n",
    "\n",
    "Input: nums = [1,1,5]\n",
    "Output: [1,5,1]\n",
    " \n",
    "\n",
    "Constraints:\n",
    "\n",
    "1 <= nums.length <= 100\n",
    "0 <= nums[i] <= 100"
   ]
  },
  {
   "cell_type": "code",
   "execution_count": 1,
   "metadata": {},
   "outputs": [],
   "source": [
    "#this goes from start to finish of the list, maybe reversing direction goes faster?\n",
    "class Solution:\n",
    "    def nextPermutation(self, nums: list[int]) -> None:\n",
    "        \"\"\"\n",
    "        Do not return anything, modify nums in-place instead.\n",
    "        \"\"\"\n",
    "        #find the largest index such k such that nums[k] < nums[k+1]\n",
    "        i1 = -1\n",
    "        for k in range(len(nums) - 1):\n",
    "            if nums[k] < nums[k+1]:\n",
    "                i1 = k\n",
    "        if i1 == -1:\n",
    "            nums.sort()\n",
    "            return\n",
    "        #find largest index l >k such that nums[k] < nums[l]\n",
    "        i2 = -1\n",
    "        for l in range(i1, len(nums)):\n",
    "            if nums[i1] < nums[l]:\n",
    "                i2 = l\n",
    "        #swap the values\n",
    "        nums[i2], nums[i1] = nums[i1], nums[i2]\n",
    "        #reverse the list from k+1 to n\n",
    "        nums[i1+1:] = reversed(nums[i1+1:])\n",
    "\n",
    "#reversed the order of the search (since only the largest INDEX value matters) beats 100%\n",
    "class Solution:\n",
    "    def nextPermutation(self, nums: list[int]) -> None:\n",
    "        \"\"\"\n",
    "        Do not return anything, modify nums in-place instead.\n",
    "        \"\"\"\n",
    "        #find the largest index such k such that nums[k] < nums[k+1]\n",
    "        i1 = -1\n",
    "        for k in range(len(nums) - 2, -1, -1):\n",
    "            if nums[k] < nums[k+1]:\n",
    "                i1 = k\n",
    "                break\n",
    "        if i1 == -1:\n",
    "            nums.sort()\n",
    "            return\n",
    "        #find largest index l >k such that nums[k] < nums[l]\n",
    "        i2 = -1\n",
    "        for l in range(len(nums) - 1, i1, -1):\n",
    "            if nums[i1] < nums[l]:\n",
    "                i2 = l\n",
    "                break\n",
    "        #swap the values\n",
    "        nums[i2], nums[i1] = nums[i1], nums[i2]\n",
    "        #reverse the list from k+1 to n\n",
    "        nums[i1+1:] = reversed(nums[i1+1:])\n",
    "        "
   ]
  },
  {
   "cell_type": "markdown",
   "metadata": {},
   "source": [
    "This algorithm is difficult to intuit, googled it at https://en.wikipedia.org/wiki/Permutation#Generation_in_lexicographic_order"
   ]
  },
  {
   "cell_type": "code",
   "execution_count": 2,
   "metadata": {},
   "outputs": [
    {
     "name": "stdout",
     "output_type": "stream",
     "text": [
      "[1, 2, 4, 3]\n"
     ]
    }
   ],
   "source": [
    "sol = Solution()\n",
    "nums = [1,2,3,4]\n",
    "sol.nextPermutation(nums)\n",
    "print(nums)"
   ]
  },
  {
   "cell_type": "code",
   "execution_count": 3,
   "metadata": {},
   "outputs": [
    {
     "name": "stdout",
     "output_type": "stream",
     "text": [
      "[1, 2, 3, 4]\n"
     ]
    }
   ],
   "source": [
    "nums = [4,3,2,1]\n",
    "sol.nextPermutation(nums)\n",
    "print(nums)"
   ]
  },
  {
   "cell_type": "code",
   "execution_count": 4,
   "metadata": {},
   "outputs": [
    {
     "name": "stdout",
     "output_type": "stream",
     "text": [
      "[1, 5, 1]\n"
     ]
    }
   ],
   "source": [
    "nums = [1,1,5]\n",
    "sol.nextPermutation(nums)\n",
    "print(nums)"
   ]
  },
  {
   "cell_type": "code",
   "execution_count": 5,
   "metadata": {},
   "outputs": [
    {
     "name": "stdout",
     "output_type": "stream",
     "text": [
      "[3, 1, 2]\n"
     ]
    }
   ],
   "source": [
    "nums = [2,3,1]\n",
    "sol.nextPermutation(nums)\n",
    "print(nums)"
   ]
  },
  {
   "cell_type": "code",
   "execution_count": null,
   "metadata": {},
   "outputs": [],
   "source": []
  }
 ],
 "metadata": {
  "kernelspec": {
   "display_name": "leetcode",
   "language": "python",
   "name": "python3"
  },
  "language_info": {
   "codemirror_mode": {
    "name": "ipython",
    "version": 3
   },
   "file_extension": ".py",
   "mimetype": "text/x-python",
   "name": "python",
   "nbconvert_exporter": "python",
   "pygments_lexer": "ipython3",
   "version": "3.13.0"
  }
 },
 "nbformat": 4,
 "nbformat_minor": 2
}
