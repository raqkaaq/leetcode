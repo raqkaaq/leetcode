{
 "cells": [
  {
   "cell_type": "markdown",
   "id": "4ead77c4",
   "metadata": {},
   "source": [
    "### 1550. Three Consecutive Odds\n",
    "Easy\n",
    "\n",
    "Hint\n",
    "Given an integer array arr, return true if there are three consecutive odd numbers in the array. Otherwise, return false.\n",
    " \n",
    "\n",
    "Example 1:\n",
    "\n",
    "Input: arr = [2,6,4,1]\n",
    "Output: false\n",
    "Explanation: There are no three consecutive odds.\n",
    "Example 2:\n",
    "\n",
    "Input: arr = [1,2,34,3,4,5,7,23,12]\n",
    "Output: true\n",
    "Explanation: [5,7,23] are three consecutive odds.\n",
    " \n",
    "\n",
    "Constraints:\n",
    "\n",
    "1 <= arr.length <= 1000\n",
    "1 <= arr[i] <= 1000"
   ]
  },
  {
   "cell_type": "code",
   "execution_count": 6,
   "id": "4594a326",
   "metadata": {},
   "outputs": [],
   "source": [
    "from typing import List\n",
    "class Solution:\n",
    "    def threeConsecutiveOdds(self, arr: List[int]) -> bool:\n",
    "        for i in range(len(arr) - 2):\n",
    "            if arr[i] % 2 == 1 and arr[i+1] % 2 == 1 and arr[i+2] % 2 == 1:\n",
    "                return True\n",
    "        return False\n",
    "        "
   ]
  },
  {
   "cell_type": "code",
   "execution_count": 7,
   "id": "90950e22",
   "metadata": {},
   "outputs": [],
   "source": [
    "sol = Solution()\n",
    "arr = [2,6,4,1]\n",
    "assert sol.threeConsecutiveOdds(arr) == False\n",
    "arr = [1,2,34,3,4,5,7,23,12]\n",
    "assert sol.threeConsecutiveOdds(arr) == True\n",
    "arr = [1,1,1]\n",
    "assert sol.threeConsecutiveOdds(arr) == True"
   ]
  },
  {
   "cell_type": "code",
   "execution_count": null,
   "id": "d16da8fd",
   "metadata": {},
   "outputs": [],
   "source": []
  }
 ],
 "metadata": {
  "kernelspec": {
   "display_name": "leetcode",
   "language": "python",
   "name": "python3"
  },
  "language_info": {
   "codemirror_mode": {
    "name": "ipython",
    "version": 3
   },
   "file_extension": ".py",
   "mimetype": "text/x-python",
   "name": "python",
   "nbconvert_exporter": "python",
   "pygments_lexer": "ipython3",
   "version": "3.12.7"
  }
 },
 "nbformat": 4,
 "nbformat_minor": 5
}
