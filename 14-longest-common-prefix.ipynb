{
 "cells": [
  {
   "cell_type": "markdown",
   "metadata": {},
   "source": [
    "### 14. Longest Common Prefix\n",
    "Easy\n",
    "\n",
    "Write a function to find the longest common prefix string amongst an array of strings.\n",
    "\n",
    "If there is no common prefix, return an empty string \"\".\n",
    "\n",
    " \n",
    "\n",
    "Example 1:\n",
    "\n",
    "Input: strs = [\"flower\",\"flow\",\"flight\"]\n",
    "Output: \"fl\"\n",
    "Example 2:\n",
    "\n",
    "Input: strs = [\"dog\",\"racecar\",\"car\"]\n",
    "Output: \"\"\n",
    "Explanation: There is no common prefix among the input strings.\n",
    " \n",
    "\n",
    "Constraints:\n",
    "\n",
    "1 <= strs.length <= 200\n",
    "0 <= strs[i].length <= 200\n",
    "strs[i] consists of only lowercase English letters."
   ]
  },
  {
   "cell_type": "code",
   "execution_count": null,
   "metadata": {},
   "outputs": [],
   "source": [
    "#Beat 100%. Possible ways to make it faster (dont check for smallest string, just add a try catch that returns if it gets an index error)\n",
    "class Solution:\n",
    "    def longestCommonPrefix(self, strs: list[str]) -> str:\n",
    "        #find smallest string\n",
    "        smallest = ''\n",
    "        mini = float('inf')\n",
    "        for stri in strs:\n",
    "            if len(stri) < mini:\n",
    "                smallest = stri\n",
    "                mini = len(smallest)\n",
    "        i = 0\n",
    "        prefix = ''\n",
    "        while i < mini:\n",
    "            char = strs[0][i]\n",
    "            for stri in strs:\n",
    "                if stri[i] != char:\n",
    "                    return prefix\n",
    "            prefix += char\n",
    "            i += 1\n",
    "        return prefix"
   ]
  },
  {
   "cell_type": "code",
   "execution_count": 58,
   "metadata": {},
   "outputs": [
    {
     "name": "stdout",
     "output_type": "stream",
     "text": [
      "fl\n"
     ]
    }
   ],
   "source": [
    "sol = Solution()\n",
    "s = ['flower','flow','flight']\n",
    "print(sol.longestCommonPrefix(s))"
   ]
  },
  {
   "cell_type": "code",
   "execution_count": null,
   "metadata": {},
   "outputs": [],
   "source": [
    "class Solution:\n",
    "    def longestCommonPrefix(self, strs: list[str]) -> str:\n",
    "        prefix = ''\n",
    "        try:\n",
    "            while True:\n",
    "                char = strs[0][i]\n",
    "                for stri in strs:\n",
    "                    if stri[i] != char:\n",
    "                        return prefix\n",
    "                prefix += char\n",
    "        except IndexError:\n",
    "            return prefix"
   ]
  }
 ],
 "metadata": {
  "kernelspec": {
   "display_name": "leetcode",
   "language": "python",
   "name": "python3"
  },
  "language_info": {
   "codemirror_mode": {
    "name": "ipython",
    "version": 3
   },
   "file_extension": ".py",
   "mimetype": "text/x-python",
   "name": "python",
   "nbconvert_exporter": "python",
   "pygments_lexer": "ipython3",
   "version": "3.13.0"
  }
 },
 "nbformat": 4,
 "nbformat_minor": 2
}
