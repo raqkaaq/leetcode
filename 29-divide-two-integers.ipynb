{
 "cells": [
  {
   "cell_type": "markdown",
   "metadata": {},
   "source": [
    "### 29. Divide Two Integers\n",
    "Medium\n",
    "\n",
    "Given two integers dividend and divisor, divide two integers without using multiplication, division, and mod operator.\n",
    "\n",
    "The integer division should truncate toward zero, which means losing its fractional part. For example, 8.345 would be truncated to 8, and -2.7335 would be truncated to -2.\n",
    "\n",
    "Return the quotient after dividing dividend by divisor.\n",
    "\n",
    "Note: Assume we are dealing with an environment that could only store integers within the 32-bit signed integer range: [−231, 231 − 1]. For this problem, if the quotient is strictly greater than 231 - 1, then return 231 - 1, and if the quotient is strictly less than -231, then return -231.\n",
    "\n",
    " \n",
    "\n",
    "Example 1:\n",
    "\n",
    "Input: dividend = 10, divisor = 3\n",
    "Output: 3\n",
    "Explanation: 10/3 = 3.33333.. which is truncated to 3.\n",
    "Example 2:\n",
    "\n",
    "Input: dividend = 7, divisor = -3\n",
    "Output: -2\n",
    "Explanation: 7/-3 = -2.33333.. which is truncated to -2.\n",
    " \n",
    "\n",
    "Constraints:\n",
    "\n",
    "-231 <= dividend, divisor <= 231 - 1\n",
    "divisor != 0"
   ]
  },
  {
   "cell_type": "code",
   "execution_count": null,
   "metadata": {},
   "outputs": [],
   "source": [
    "#only works for positives\n",
    "class Solution:\n",
    "    def divide(self, dividend: int, divisor: int) -> int:\n",
    "        quotient = 0\n",
    "        remainder = dividend\n",
    "\n",
    "        bit_pos = dividend.bit_length() - 1\n",
    "        while bit_pos >= 0:\n",
    "            if remainder>>bit_pos >= divisor:\n",
    "                remainder -= divisor << bit_pos\n",
    "                quotient |= 1 << bit_pos\n",
    "            bit_pos -= 1\n",
    "\n",
    "        return quotient\n",
    "    \n",
    "#this is a very poor problem to tackle in python. Really should be using c++\n",
    "class Solution:\n",
    "    def divide(self, dividend: int, divisor: int) -> int:\n",
    "        two_to_the_31 = 2147483648\n",
    "\n",
    "        #this is really annoying to do in python, because technically its not checking valid code\n",
    "        if dividend == -two_to_the_31 and divisor == -1:\n",
    "            return two_to_the_31 - 1\n",
    "        if dividend == -two_to_the_31 and divisor == 1:\n",
    "            return -two_to_the_31\n",
    "\n",
    "        #Handle special case of division by zero\n",
    "        if divisor == 0:\n",
    "            return\n",
    "\n",
    "        # Determine the sign of the quotient\n",
    "        sign = -1 if (dividend < 0) ^ (divisor < 0) else 1\n",
    "\n",
    "        # Take absolute values\n",
    "        dividend, divisor = abs(dividend), abs(divisor)\n",
    "\n",
    "        quotient = 0\n",
    "        temp = 0\n",
    "\n",
    "        # Perform bitwise division\n",
    "        for i in range(31, -1, -1):\n",
    "            if (temp + (divisor << i)) <= dividend:\n",
    "                temp += divisor << i\n",
    "                quotient |= 1 << i\n",
    "        return -quotient if sign == -1 else quotient"
   ]
  },
  {
   "cell_type": "code",
   "execution_count": 107,
   "metadata": {},
   "outputs": [
    {
     "name": "stdout",
     "output_type": "stream",
     "text": [
      "3\n",
      "-2\n",
      "2\n",
      "-2\n",
      "-1\n",
      "1\n",
      "None\n",
      "2147483647\n"
     ]
    }
   ],
   "source": [
    "sol = Solution()\n",
    "t,b = 10,3\n",
    "print(sol.divide(t,b))\n",
    "t,b = 7,-3\n",
    "print(sol.divide(t,b))\n",
    "t,b = -7,-3\n",
    "print(sol.divide(t,b))\n",
    "t,b = -7,3\n",
    "print(sol.divide(t,b))\n",
    "t,b = -1,1\n",
    "print(sol.divide(t,b))\n",
    "t,b = 1,1\n",
    "print(sol.divide(t,b))\n",
    "t,b = -1,0\n",
    "print(sol.divide(t,b))\n",
    "t,b = -2147483648, -1\n",
    "print(sol.divide(t,b))\n"
   ]
  },
  {
   "cell_type": "code",
   "execution_count": null,
   "metadata": {},
   "outputs": [],
   "source": []
  }
 ],
 "metadata": {
  "kernelspec": {
   "display_name": "leetcode",
   "language": "python",
   "name": "python3"
  },
  "language_info": {
   "codemirror_mode": {
    "name": "ipython",
    "version": 3
   },
   "file_extension": ".py",
   "mimetype": "text/x-python",
   "name": "python",
   "nbconvert_exporter": "python",
   "pygments_lexer": "ipython3",
   "version": "3.12.7"
  }
 },
 "nbformat": 4,
 "nbformat_minor": 2
}
