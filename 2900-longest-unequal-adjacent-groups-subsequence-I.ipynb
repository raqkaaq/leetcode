{
 "cells": [
  {
   "cell_type": "markdown",
   "id": "1812f9cf",
   "metadata": {},
   "source": [
    "### 2900. Longest Unequal Adjacent Groups Subsequence I\n",
    "Easy\n",
    "\n",
    "Hint\n",
    "You are given a string array words and a binary array groups both of length n.\n",
    "\n",
    "A subsequence of words is alternating if for any two consecutive strings in the sequence, their corresponding elements at the same indices in groups are different (that is, there cannot be consecutive 0 or 1).\n",
    "\n",
    "Your task is to select the longest alternating subsequence from words.\n",
    "\n",
    "Return the selected subsequence. If there are multiple answers, return any of them.\n",
    "\n",
    "Note: The elements in words are distinct.\n",
    "\n",
    " \n",
    "\n",
    "Example 1:\n",
    "\n",
    "Input: words = [\"e\",\"a\",\"b\"], groups = [0,0,1]\n",
    "\n",
    "Output: [\"e\",\"b\"]\n",
    "\n",
    "Explanation: A subsequence that can be selected is [\"e\",\"b\"] because groups[0] != groups[2]. Another subsequence that can be selected is [\"a\",\"b\"] because groups[1] != groups[2]. It can be demonstrated that the length of the longest subsequence of indices that satisfies the condition is 2.\n",
    "\n",
    "Example 2:\n",
    "\n",
    "Input: words = [\"a\",\"b\",\"c\",\"d\"], groups = [1,0,1,1]\n",
    "\n",
    "Output: [\"a\",\"b\",\"c\"]\n",
    "\n",
    "Explanation: A subsequence that can be selected is [\"a\",\"b\",\"c\"] because groups[0] != groups[1] and groups[1] != groups[2]. Another subsequence that can be selected is [\"a\",\"b\",\"d\"] because groups[0] != groups[1] and groups[1] != groups[3]. It can be shown that the length of the longest subsequence of indices that satisfies the condition is 3.\n",
    "\n",
    " \n",
    "\n",
    "Constraints:\n",
    "\n",
    "1 <= n == words.length == groups.length <= 100\n",
    "1 <= words[i].length <= 10\n",
    "groups[i] is either 0 or 1.\n",
    "words consists of distinct strings.\n",
    "words[i] consists of lowercase English letters."
   ]
  },
  {
   "cell_type": "code",
   "execution_count": 6,
   "id": "5963f6b4",
   "metadata": {},
   "outputs": [],
   "source": [
    "from typing import List\n",
    "class Solution:\n",
    "    def getLongestSubsequence(self, words: List[str], groups: List[int]) -> List[str]:\n",
    "        sub_seq = []\n",
    "        curr_group = -1\n",
    "        for idx, word in enumerate(words):\n",
    "            if groups[idx] != curr_group:\n",
    "                curr_group = groups[idx]\n",
    "                sub_seq.append(word)\n",
    "        return sub_seq\n",
    "\n"
   ]
  },
  {
   "cell_type": "code",
   "execution_count": 9,
   "id": "e6de3a10",
   "metadata": {},
   "outputs": [],
   "source": [
    "sol = Solution()\n",
    "words, groups = [\"e\", \"a\", \"b\"], [0,0,1]\n",
    "assert sol.getLongestSubsequence(words, groups) == [\"e\", \"b\"]\n",
    "words, groups = [\"a\",\"b\",\"c\",\"d\"],[1,0,1,1]\n",
    "assert sol.getLongestSubsequence(words, groups) == [\"a\", \"b\", \"c\"]"
   ]
  },
  {
   "cell_type": "code",
   "execution_count": null,
   "id": "6cb2dce2",
   "metadata": {},
   "outputs": [],
   "source": [
    "#stole this one off leetcode solutions, because it looks fun\n",
    "class Solution:\n",
    "    def getLongestSubsequence(self, words: List[str], groups: List[int]) -> List[str]:\n",
    "        return [words[0]]+[ words[i+1] for i, (x, y) in enumerate(zip(groups, groups[1:])) if x!=y]"
   ]
  },
  {
   "cell_type": "code",
   "execution_count": 11,
   "id": "1af9a6c4",
   "metadata": {},
   "outputs": [],
   "source": [
    "sol = Solution()\n",
    "words, groups = [\"e\", \"a\", \"b\"], [0,0,1]\n",
    "assert sol.getLongestSubsequence(words, groups) == [\"e\", \"b\"]\n",
    "words, groups = [\"a\",\"b\",\"c\",\"d\"],[1,0,1,1]\n",
    "assert sol.getLongestSubsequence(words, groups) == [\"a\", \"b\", \"c\"]"
   ]
  },
  {
   "cell_type": "code",
   "execution_count": null,
   "id": "d815df8f",
   "metadata": {},
   "outputs": [],
   "source": []
  }
 ],
 "metadata": {
  "kernelspec": {
   "display_name": "leetcode",
   "language": "python",
   "name": "python3"
  },
  "language_info": {
   "codemirror_mode": {
    "name": "ipython",
    "version": 3
   },
   "file_extension": ".py",
   "mimetype": "text/x-python",
   "name": "python",
   "nbconvert_exporter": "python",
   "pygments_lexer": "ipython3",
   "version": "3.12.7"
  }
 },
 "nbformat": 4,
 "nbformat_minor": 5
}
