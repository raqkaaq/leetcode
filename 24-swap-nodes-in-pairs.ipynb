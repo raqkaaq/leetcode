{
 "cells": [
  {
   "cell_type": "markdown",
   "metadata": {},
   "source": [
    "### 24. Swap Nodes in Pairs\n",
    "Medium\n",
    "\n",
    "Given a linked list, swap every two adjacent nodes and return its head. You must solve the problem without modifying the values in the list's nodes (i.e., only nodes themselves may be changed.)\n",
    "\n",
    " \n",
    "\n",
    "Example 1:\n",
    "\n",
    "Input: head = [1,2,3,4]\n",
    "\n",
    "Output: [2,1,4,3]\n",
    "\n",
    "Explanation:\n",
    "\n",
    "\n",
    "\n",
    "Example 2:\n",
    "\n",
    "Input: head = []\n",
    "\n",
    "Output: []\n",
    "\n",
    "Example 3:\n",
    "\n",
    "Input: head = [1]\n",
    "\n",
    "Output: [1]\n",
    "\n",
    "Example 4:\n",
    "\n",
    "Input: head = [1,2,3]\n",
    "\n",
    "Output: [2,1,3]\n",
    "\n",
    " \n",
    "\n",
    "Constraints:\n",
    "\n",
    "The number of nodes in the list is in the range [0, 100].\n",
    "0 <= Node.val <= 100"
   ]
  },
  {
   "cell_type": "code",
   "execution_count": null,
   "metadata": {},
   "outputs": [],
   "source": [
    "#Definition for singly-linked list.\n",
    "class ListNode:\n",
    "    def __init__(self, val=0, next=None):\n",
    "        self.val = val\n",
    "        self.next = next\n",
    "    def make(list):\n",
    "        node = ListNode(list[0], None)\n",
    "        head = node\n",
    "        for i in range(1,len(list)):\n",
    "            node.next = ListNode(list[i], None)\n",
    "            node = node.next\n",
    "        return head\n",
    "    def __str__(self):\n",
    "        node = self\n",
    "        stri = '['\n",
    "        while node != None:\n",
    "            stri += str(node.val)\n",
    "            if node.next != None:\n",
    "                stri += ','\n",
    "            node = node.next\n",
    "        stri += ']'\n",
    "        return stri\n",
    "from typing import Optional\n",
    "class Solution:\n",
    "    def swapPairs(self, head: Optional[ListNode]) -> Optional[ListNode]:\n",
    "        if not head or not head.next:\n",
    "            return head\n",
    "        dummy = ListNode(next=head)\n",
    "        ptr = dummy\n",
    "        while ptr.next and ptr.next.next:\n",
    "            p1 = ptr.next\n",
    "            p2 = ptr.next.next\n",
    "            p1.next = p2.next\n",
    "            p2.next = p1\n",
    "            ptr.next = p2\n",
    "            ptr = p1\n",
    "        return dummy.next\n"
   ]
  },
  {
   "cell_type": "code",
   "execution_count": 38,
   "metadata": {},
   "outputs": [
    {
     "name": "stdout",
     "output_type": "stream",
     "text": [
      "[0,2,1,3,4]\n",
      "[0,2,1,4,3]\n",
      "[2,1,4,3]\n"
     ]
    }
   ],
   "source": [
    "sol = Solution()\n",
    "l = ListNode.make([1,2,3,4])\n",
    "print(sol.swapPairs(l))"
   ]
  },
  {
   "cell_type": "code",
   "execution_count": null,
   "metadata": {},
   "outputs": [],
   "source": []
  }
 ],
 "metadata": {
  "kernelspec": {
   "display_name": "leetcode",
   "language": "python",
   "name": "python3"
  },
  "language_info": {
   "codemirror_mode": {
    "name": "ipython",
    "version": 3
   },
   "file_extension": ".py",
   "mimetype": "text/x-python",
   "name": "python",
   "nbconvert_exporter": "python",
   "pygments_lexer": "ipython3",
   "version": "3.13.0"
  }
 },
 "nbformat": 4,
 "nbformat_minor": 2
}
