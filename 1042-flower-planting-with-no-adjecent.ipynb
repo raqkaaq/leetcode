{
 "cells": [
  {
   "cell_type": "markdown",
   "metadata": {},
   "source": [
    "### 1042. Flower Planting With No Adjacent\n",
    "Medium\n",
    "\n",
    "Hint\n",
    "You have n gardens, labeled from 1 to n, and an array paths where paths[i] = [xi, yi] describes a bidirectional path between garden xi to garden yi. In each garden, you want to plant one of 4 types of flowers.\n",
    "\n",
    "All gardens have at most 3 paths coming into or leaving it.\n",
    "\n",
    "Your task is to choose a flower type for each garden such that, for any two gardens connected by a path, they have different types of flowers.\n",
    "\n",
    "Return any such a choice as an array answer, where answer[i] is the type of flower planted in the (i+1)th garden. The flower types are denoted 1, 2, 3, or 4. It is guaranteed an answer exists.\n",
    "\n",
    " \n",
    "\n",
    "Example 1:\n",
    "\n",
    "Input: n = 3, paths = [[1,2],[2,3],[3,1]]\n",
    "Output: [1,2,3]\n",
    "Explanation:\n",
    "Gardens 1 and 2 have different types.\n",
    "Gardens 2 and 3 have different types.\n",
    "Gardens 3 and 1 have different types.\n",
    "Hence, [1,2,3] is a valid answer. Other valid answers include [1,2,4], [1,4,2], and [3,2,1].\n",
    "Example 2:\n",
    "\n",
    "Input: n = 4, paths = [[1,2],[3,4]]\n",
    "Output: [1,2,1,2]\n",
    "Example 3:\n",
    "\n",
    "Input: n = 4, paths = [[1,2],[2,3],[3,4],[4,1],[1,3],[2,4]]\n",
    "Output: [1,2,3,4]\n"
   ]
  },
  {
   "cell_type": "code",
   "execution_count": 111,
   "metadata": {},
   "outputs": [],
   "source": [
    "#Using a DFS FUNCTION\n",
    "\n",
    "class Solution:\n",
    "    def gardenNoAdj(self, n: int, paths: list[list[int]]) -> list[int]:\n",
    "        #create adjecency list such that garden n is at key n-1 to start from 0\n",
    "        adj_dict = {i + 1:[] for i in range(n)}\n",
    "        for a in paths:\n",
    "            adj_dict[a[0]].append(a[1])\n",
    "            adj_dict[a[1]].append(a[0])\n",
    "        colorings = [0] * (n + 1)\n",
    "\n",
    "        def dfs(node: int) -> bool:\n",
    "            print(node)\n",
    "            if node == n + 1:\n",
    "                return True\n",
    "            for color in range(1,5): #all the colors\n",
    "                if valid_coloring(node, color):\n",
    "                    colorings[node] = color\n",
    "                    if dfs(node + 1):\n",
    "                        return True\n",
    "                    colorings[node] = 0\n",
    "            return False\n",
    "\n",
    "        def valid_coloring(node: int, color: int) -> bool:\n",
    "            for near in adj_dict[node]:\n",
    "                if colorings[near] == color:\n",
    "                    return False\n",
    "            return True\n",
    "        \n",
    "        dfs(1)\n",
    "        return colorings[1:]\n",
    "\n",
    "#USING A LOOP OVER NODES  \n",
    "class Solution:\n",
    "    def gardenNoAdj(self, n: int, paths: list[list[int]]) -> list[int]:\n",
    "        #create adjecency list such that garden n is at key n-1 to start from 0\n",
    "        adj_dict = {i + 1:[] for i in range(n)}\n",
    "        for a in paths:\n",
    "            adj_dict[a[0]].append(a[1])\n",
    "            adj_dict[a[1]].append(a[0])\n",
    "        colorings = [0] * (n + 1)\n",
    "\n",
    "        for node in range(1,n + 1):\n",
    "            nearby = set()\n",
    "            for near in adj_dict[node]:\n",
    "                if colorings[near] != 0:\n",
    "                    nearby.add(colorings[near])\n",
    "            for color in range(1,5):\n",
    "                if color not in nearby:\n",
    "                    colorings[node] = color\n",
    "                    break\n",
    "        \n",
    "        return colorings[1:]"
   ]
  },
  {
   "cell_type": "code",
   "execution_count": 112,
   "metadata": {},
   "outputs": [
    {
     "name": "stdout",
     "output_type": "stream",
     "text": [
      "[1, 2, 3]\n"
     ]
    }
   ],
   "source": [
    "sol = Solution()\n",
    "n, paths = 3, [[1,2], [2,3],[3,1]]\n",
    "print(sol.gardenNoAdj(n, paths))"
   ]
  },
  {
   "cell_type": "code",
   "execution_count": 113,
   "metadata": {},
   "outputs": [
    {
     "name": "stdout",
     "output_type": "stream",
     "text": [
      "[1, 2, 1, 2]\n"
     ]
    }
   ],
   "source": [
    "n,paths = 4, [[1,2], [3,4]]\n",
    "print(sol.gardenNoAdj(n,paths))"
   ]
  },
  {
   "cell_type": "code",
   "execution_count": null,
   "metadata": {},
   "outputs": [],
   "source": []
  }
 ],
 "metadata": {
  "kernelspec": {
   "display_name": "leetcode",
   "language": "python",
   "name": "python3"
  },
  "language_info": {
   "codemirror_mode": {
    "name": "ipython",
    "version": 3
   },
   "file_extension": ".py",
   "mimetype": "text/x-python",
   "name": "python",
   "nbconvert_exporter": "python",
   "pygments_lexer": "ipython3",
   "version": "3.12.7"
  }
 },
 "nbformat": 4,
 "nbformat_minor": 2
}
