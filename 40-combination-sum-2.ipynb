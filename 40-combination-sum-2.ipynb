{
 "cells": [
  {
   "cell_type": "markdown",
   "metadata": {},
   "source": [
    "### 40. Combination Sum II\n",
    "Medium\n",
    "\n",
    "Given a collection of candidate numbers (candidates) and a target number (target), find all unique combinations in candidates where the candidate numbers sum to target.\n",
    "\n",
    "Each number in candidates may only be used once in the combination.\n",
    "\n",
    "Note: The solution set must not contain duplicate combinations.\n",
    "\n",
    " \n",
    "\n",
    "Example 1:\n",
    "\n",
    "Input: candidates = [10,1,2,7,6,1,5], target = 8\n",
    "Output: \n",
    "[\n",
    "[1,1,6],\n",
    "[1,2,5],\n",
    "[1,7],\n",
    "[2,6]\n",
    "]\n",
    "Example 2:\n",
    "\n",
    "Input: candidates = [2,5,2,1,2], target = 5\n",
    "Output: \n",
    "[\n",
    "[1,2,2],\n",
    "[5]\n",
    "]\n",
    " \n",
    "\n",
    "Constraints:\n",
    "\n",
    "1 <= candidates.length <= 100\n",
    "1 <= candidates[i] <= 50\n",
    "1 <= target <= 30"
   ]
  },
  {
   "cell_type": "code",
   "execution_count": 23,
   "metadata": {},
   "outputs": [],
   "source": [
    "#DFS Iterative\n",
    "class Solution:\n",
    "    def combinationSum2(self, candidates: list[int], target: int) -> list[list[int]]:\n",
    "        if not candidates:\n",
    "            return []\n",
    "        candidates.sort()\n",
    "        stack = [(0, [], target)]\n",
    "        ans = []\n",
    "        while stack:\n",
    "            start, curr, remain = stack.pop()\n",
    "            if remain == 0:\n",
    "                ans.append(curr)\n",
    "                continue\n",
    "            for i in range(start, len(candidates)): \n",
    "                if i > start and candidates[i] == candidates[i-1]: #removes duplicate numbers\n",
    "                    continue\n",
    "                if candidates[i] > remain:\n",
    "                    break\n",
    "                new_comb = curr + [candidates[i]]\n",
    "                stack.append((i+1, new_comb, remain - candidates[i]))\n",
    "        return ans\n",
    "\n",
    "#DFS recursive\n",
    "class Solution:\n",
    "    def combinationSum2(self, candidates: list[int], target: int)->list[list[int]]:\n",
    "        candidates.sort()\n",
    "        ans = []\n",
    "        def dfs(target, index, curr):\n",
    "            if target < 0:\n",
    "                return\n",
    "            if target == 0:\n",
    "                ans.append(curr)\n",
    "                return\n",
    "            for i in range(index, len(candidates)):\n",
    "                if i > index  and candidates[i] == candidates[i-1]:\n",
    "                    continue\n",
    "                if candidates[i] > target:\n",
    "                    break\n",
    "                new_comb = curr + [candidates[i]]\n",
    "                dfs(target - candidates[i], i + 1, new_comb)\n",
    "        dfs(target, 0, [])\n",
    "        return ans"
   ]
  },
  {
   "cell_type": "code",
   "execution_count": 24,
   "metadata": {},
   "outputs": [
    {
     "name": "stdout",
     "output_type": "stream",
     "text": [
      "[[1, 1, 6], [1, 2, 5], [1, 7], [2, 6]]\n"
     ]
    }
   ],
   "source": [
    "sol = Solution()\n",
    "c,t = [10,1,2,7,6,1,5],8\n",
    "print(sol.combinationSum2(c,t))"
   ]
  },
  {
   "cell_type": "code",
   "execution_count": null,
   "metadata": {},
   "outputs": [],
   "source": []
  }
 ],
 "metadata": {
  "kernelspec": {
   "display_name": "leetcode",
   "language": "python",
   "name": "python3"
  },
  "language_info": {
   "codemirror_mode": {
    "name": "ipython",
    "version": 3
   },
   "file_extension": ".py",
   "mimetype": "text/x-python",
   "name": "python",
   "nbconvert_exporter": "python",
   "pygments_lexer": "ipython3",
   "version": "3.12.7"
  }
 },
 "nbformat": 4,
 "nbformat_minor": 2
}
