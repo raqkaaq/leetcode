{
 "cells": [
  {
   "cell_type": "markdown",
   "metadata": {},
   "source": [
    "\n",
    "\n",
    "### 406. Queue Reconstruction by Height\n",
    "Medium\n",
    "\n",
    "Hint\n",
    "You are given an array of people, people, which are the attributes of some people in a queue (not necessarily in order). Each people[i] = [hi, ki] represents the ith person of height hi with exactly ki other people in front who have a height greater than or equal to hi.\n",
    "\n",
    "Reconstruct and return the queue that is represented by the input array people. The returned queue should be formatted as an array queue, where queue[j] = [hj, kj] is the attributes of the jth person in the queue (queue[0] is the person at the front of the queue).\n",
    "\n",
    " \n",
    "\n",
    "Example 1:\n",
    "\n",
    "Input: people = [[7,0],[4,4],[7,1],[5,0],[6,1],[5,2]]\n",
    "Output: [[5,0],[7,0],[5,2],[6,1],[4,4],[7,1]]\n",
    "Explanation:\n",
    "Person 0 has height 5 with no other people taller or the same height in front.\n",
    "Person 1 has height 7 with no other people taller or the same height in front.\n",
    "Person 2 has height 5 with two persons taller or the same height in front, which is person 0 and 1.\n",
    "Person 3 has height 6 with one person taller or the same height in front, which is person 1.\n",
    "Person 4 has height 4 with four people taller or the same height in front, which are people 0, 1, 2, and 3.\n",
    "Person 5 has height 7 with one person taller or the same height in front, which is person 1.\n",
    "Hence [[5,0],[7,0],[5,2],[6,1],[4,4],[7,1]] is the reconstructed queue.\n",
    "Example 2:\n",
    "\n",
    "Input: people = [[6,0],[5,0],[4,0],[3,2],[2,2],[1,4]]\n",
    "Output: [[4,0],[5,0],[2,2],[3,2],[1,4],[6,0]]\n",
    " \n",
    "\n",
    "Constraints:\n",
    "\n",
    "1 <= people.length <= 2000\n",
    "0 <= hi <= 106\n",
    "0 <= ki < people.length\n",
    "It is guaranteed that the queue can be reconstructed.\n"
   ]
  },
  {
   "cell_type": "code",
   "execution_count": null,
   "metadata": {},
   "outputs": [],
   "source": [
    "# class Solution:\n",
    "#     def reconstructQueue(self, people: list[list[int]]) -> list[list[int]]:\n",
    "#         q = []\n",
    "#         # sort the array based on descending height\n",
    "#         #note that list.sort(key=lambda x: -x) sorts list in descending order\n",
    "#         #what we are doing here is sorting just by the height, while keeping the k the same\n",
    "#         #Example:\n",
    "#         # people = [[7,0],[4,4],[7,1],[5,0],[6,1],[5,2]]\n",
    "#         # people.sort(key = lambda x: (-x[0], x[0]))\n",
    "#         # people == [[7, 0], [7, 1], [6, 1], [5, 0], [5, 2], [4, 4]] --> TRUE\n",
    "#         people.sort(key=lambda x: (-x[0], x[1]))\n",
    "#         #insert into the queue based on k value\n",
    "#         #With the people array sorted by descending height\n",
    "#         #try to insert into the array at the index of the k value.\n",
    "#         # given [7,0], this places [7,0] into the first index, since the people array is sorted by height, this will automatically go in the order \n",
    "#         # [min, index], [min+1, index],...,[max, index],[min, index+1]...\n",
    "#         for p in people:\n",
    "#             q.insert(p[1], p)\n",
    "#         #Note that this approach is a greedy approach that assumes all k values and h values give a unique proper queue. \n",
    "#         return q\n",
    "    \n",
    "class Solution:\n",
    "    def reconstructQueue(self, people: list[list[int]]) -> list[list[int]]:\n",
    "        def mergesort(people, l,r):\n",
    "            if l < r:\n",
    "                mid = (l + r) / 2\n",
    "                mergesort(people, l, mid)\n"
   ]
  },
  {
   "cell_type": "code",
   "execution_count": 41,
   "metadata": {},
   "outputs": [
    {
     "name": "stdout",
     "output_type": "stream",
     "text": [
      "[[5, 0], [7, 0], [6, 1], [5, 2], [4, 4], [7, 1]]\n",
      "[[7, 1], [7, 0], [6, 1], [5, 2], [5, 0], [4, 4]]\n"
     ]
    }
   ],
   "source": [
    "sol = Solution()\n",
    "people = [[7,0],[4,4],[7,1],[5,0],[6,1],[5,2]]\n",
    "print(sol.reconstructQueue(people))\n",
    "print(people)"
   ]
  },
  {
   "cell_type": "code",
   "execution_count": null,
   "metadata": {},
   "outputs": [
    {
     "name": "stdout",
     "output_type": "stream",
     "text": [
      "4\n",
      "7\n"
     ]
    }
   ],
   "source": []
  },
  {
   "cell_type": "markdown",
   "metadata": {},
   "source": [
    "ALGORITHM MergeSort(arr, left, right)\n",
    "  IF left < right\n",
    "    mid = (left + right) / 2\n",
    "    MergeSort(arr, left, mid)\n",
    "    MergeSort(arr, mid + 1, right)\n",
    "    Merge(arr, left, mid, right)\n",
    "\n",
    "ALGORITHM Merge(arr, left, mid, right)\n",
    "  n1 = mid - left + 1\n",
    "  n2 = right - mid\n",
    "\n",
    "  Create temporary arrays L[n1], R[n2]\n",
    "\n",
    "  FOR i = 0 TO n1 - 1\n",
    "    L[i] = arr[left + i]\n",
    "\n",
    "  FOR j = 0 TO n2 - 1\n",
    "    R[j] = arr[mid + 1 + j]\n",
    "\n",
    "  i = 0\n",
    "  j = 0\n",
    "  k = left\n",
    "\n",
    "  WHILE i < n1 AND j < n2\n",
    "    IF L[i] <= R[j]\n",
    "      arr[k] = L[i]\n",
    "      i = i + 1\n",
    "    ELSE\n",
    "      arr[k] = R[j]\n",
    "      j = j + 1\n",
    "    k = k + 1\n",
    "\n",
    "  WHILE i < n1\n",
    "    arr[k] = L[i]\n",
    "    i = i + 1\n",
    "    k = k + 1\n",
    "\n",
    "  WHILE j < n2\n",
    "    arr[k] = R[j]\n",
    "    j = j + 1\n",
    "    k = k + 1"
   ]
  }
 ],
 "metadata": {
  "kernelspec": {
   "display_name": "leetcode",
   "language": "python",
   "name": "python3"
  },
  "language_info": {
   "codemirror_mode": {
    "name": "ipython",
    "version": 3
   },
   "file_extension": ".py",
   "mimetype": "text/x-python",
   "name": "python",
   "nbconvert_exporter": "python",
   "pygments_lexer": "ipython3",
   "version": "3.13.0"
  }
 },
 "nbformat": 4,
 "nbformat_minor": 2
}
