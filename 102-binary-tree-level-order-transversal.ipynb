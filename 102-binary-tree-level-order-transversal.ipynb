{
 "cells": [
  {
   "cell_type": "markdown",
   "metadata": {},
   "source": [
    "### 102. Binary Tree Level Order Traversal\n",
    "Medium\n",
    "\n",
    "Given the root of a binary tree, return the level order traversal of its nodes' values. (i.e., from left to right, level by level).\n",
    "\n",
    " \n",
    "\n",
    "Example 1:\n",
    "\n",
    "\n",
    "Input: root = [3,9,20,null,null,15,7]\n",
    "Output: [[3],[9,20],[15,7]]\n",
    "Example 2:\n",
    "\n",
    "Input: root = [1]\n",
    "Output: [[1]]\n",
    "Example 3:\n",
    "\n",
    "Input: root = []\n",
    "Output: []\n",
    " \n",
    "\n",
    "Constraints:\n",
    "\n",
    "The number of nodes in the tree is in the range [0, 2000].\n",
    "-1000 <= Node.val <= 1000"
   ]
  },
  {
   "cell_type": "code",
   "execution_count": null,
   "metadata": {},
   "outputs": [],
   "source": [
    "# Definition for a binary tree node.\n",
    "class TreeNode:\n",
    "    def __init__(self, val=0, left=None, right=None):\n",
    "        self.val = val\n",
    "        self.left = left\n",
    "        self.right = right\n",
    "from typing import Optional\n",
    "#this works, but its bad\n",
    "# class Solution:\n",
    "#     def levelOrder(self, root: Optional[TreeNode]) -> list[list[int]]:\n",
    "#         if root is None:\n",
    "#             return []\n",
    "#         def height(node:TreeNode)->int:\n",
    "#             if node is None:\n",
    "#                 return 0\n",
    "#             lheight = height(node.left)\n",
    "#             rheight = height(node.right)\n",
    "#             return max(lheight, rheight) + 1\n",
    "#         def getLevel(root, level):\n",
    "#             arr = []\n",
    "#             if root is None:\n",
    "#                 return []\n",
    "#             if level == 0:\n",
    "#                 arr = [root.val]\n",
    "#             elif level > 0:\n",
    "#                 arr += getLevel(root.left, level - 1)\n",
    "#                 arr += getLevel(root.right, level - 1)\n",
    "#             return arr\n",
    "            \n",
    "#         h = height(root)\n",
    "#         levels = []\n",
    "#         for i in range(h):\n",
    "#             l = getLevel(root, i)\n",
    "#             levels.append(l)\n",
    "#         return levels\n",
    "    \n",
    "#using a queue works significantly better\n",
    "class Solution:\n",
    "    def levelOrder(self, root: Optional[TreeNode]) -> list[list[int]]:\n",
    "        #Use A DFS\n",
    "        if not root:\n",
    "            return []\n",
    "        levels = []\n",
    "        from collections import deque\n",
    "        queue = deque()\n",
    "        queue.append(root)\n",
    "        while queue:\n",
    "            level = []\n",
    "            for i in range(len(queue)):\n",
    "                node = queue.popleft() #use popleft for a queue, pop for a stack\n",
    "                level.append(node.val)\n",
    "                if node.left:\n",
    "                    queue.append(node.left)\n",
    "                if node.right:\n",
    "                    queue.append(node.right)\n",
    "            levels.append(level)\n",
    "        return levels"
   ]
  },
  {
   "cell_type": "code",
   "execution_count": 24,
   "metadata": {},
   "outputs": [
    {
     "name": "stdout",
     "output_type": "stream",
     "text": [
      "[[3], [9, 20], [15, 7]]\n"
     ]
    }
   ],
   "source": [
    "sol = Solution()\n",
    "r = [3,9,20,None,None,15,7]\n",
    "tree = TreeNode(3,TreeNode(9), TreeNode(20,TreeNode(15), TreeNode(7)))\n",
    "print(sol.levelOrder(tree))"
   ]
  },
  {
   "cell_type": "code",
   "execution_count": null,
   "metadata": {},
   "outputs": [],
   "source": []
  }
 ],
 "metadata": {
  "kernelspec": {
   "display_name": "leetcode",
   "language": "python",
   "name": "python3"
  },
  "language_info": {
   "codemirror_mode": {
    "name": "ipython",
    "version": 3
   },
   "file_extension": ".py",
   "mimetype": "text/x-python",
   "name": "python",
   "nbconvert_exporter": "python",
   "pygments_lexer": "ipython3",
   "version": "3.12.7"
  }
 },
 "nbformat": 4,
 "nbformat_minor": 2
}
