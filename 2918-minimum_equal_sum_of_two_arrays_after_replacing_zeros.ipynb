{
 "cells": [
  {
   "cell_type": "markdown",
   "id": "b4276bd6",
   "metadata": {},
   "source": [
    "# 2918. Minimum Equal Sum of Two Arrays After Replacing Zeros\n",
    "Medium\n",
    "\n",
    "Hint\n",
    "You are given two arrays nums1 and nums2 consisting of positive integers.\n",
    "\n",
    "You have to replace all the 0's in both arrays with strictly positive integers such that the sum of elements of both arrays becomes equal.\n",
    "\n",
    "Return the minimum equal sum you can obtain, or -1 if it is impossible.\n",
    "\n",
    " \n",
    "\n",
    "Example 1:\n",
    "\n",
    "Input: nums1 = [3,2,0,1,0], nums2 = [6,5,0]\n",
    "Output: 12\n",
    "Explanation: We can replace 0's in the following way:\n",
    "- Replace the two 0's in nums1 with the values 2 and 4. The resulting array is nums1 = [3,2,2,1,4].\n",
    "- Replace the 0 in nums2 with the value 1. The resulting array is nums2 = [6,5,1].\n",
    "Both arrays have an equal sum of 12. It can be shown that it is the minimum sum we can obtain.\n",
    "Example 2:\n",
    "\n",
    "Input: nums1 = [2,0,2,0], nums2 = [1,4]\n",
    "Output: -1\n",
    "Explanation: It is impossible to make the sum of both arrays equal.\n",
    " \n",
    "\n",
    "Constraints:\n",
    "\n",
    "1 <= nums1.length, nums2.length <= 105\n",
    "0 <= nums1[i], nums2[i] <= 106"
   ]
  },
  {
   "cell_type": "code",
   "execution_count": 2,
   "id": "a025ce62",
   "metadata": {},
   "outputs": [],
   "source": [
    "from typing import List\n",
    "class Solution:\n",
    "    def minSum(self, nums1: List[int], nums2: List[int]) -> int:\n",
    "        nums1.sort()\n",
    "        nums2.sort()\n",
    "        if sum(nums1) > sum(nums2):\n",
    "            nums1, nums2 = nums2, nums1\n",
    "        nums1_1 = [x for x in nums1 if x != 0] + [1]*nums1.count(0)\n",
    "        nums2_1 = [x for x in nums2 if x != 0] + [1]*nums2.count(0)\n",
    "        min1_sum, min2_sum = sum(nums1_1), sum(nums2_1)\n",
    "        if min1_sum == min2_sum:\n",
    "            return min1_sum\n",
    "        elif min1_sum < min2_sum:\n",
    "            if 0 in nums1:\n",
    "                return min2_sum\n",
    "        elif min2_sum < min1_sum:\n",
    "            if 0 in nums2:\n",
    "                return min1_sum\n",
    "        return -1\n",
    "\n",
    "\n"
   ]
  },
  {
   "cell_type": "code",
   "execution_count": null,
   "id": "bef3488e",
   "metadata": {},
   "outputs": [],
   "source": [
    "#better solution\n",
    "class Solution:\n",
    "    def minSum(self, nums1: List[int], nums2: List[int]) -> int:\n",
    "        sum1, sum2 = sum(nums1) + nums1.count(0), sum(nums2) + nums2.count(0)\n",
    "        if sum1 == sum2:\n",
    "            return sum1\n",
    "        elif sum1 < sum2 and 0 in nums1:\n",
    "            return sum2\n",
    "        elif sum2 < sum1 and 0 in nums2:\n",
    "            return sum1\n",
    "        return -1\n",
    "        "
   ]
  },
  {
   "cell_type": "code",
   "execution_count": 5,
   "id": "4c5e61de",
   "metadata": {},
   "outputs": [],
   "source": [
    "#even better solution\n",
    "class Solution:\n",
    "    def minSum(self, nums1: List[int], nums2: List[int]) -> int:\n",
    "        count1, count2 = nums1.count(0), nums2.count(0)\n",
    "        sum1, sum2 = sum(nums1) + count1, sum(nums2) + count2\n",
    "        if sum1 < sum2 and count1 == 0:\n",
    "            return -1\n",
    "        if sum2 < sum1 and count2 == 0:\n",
    "            return -1\n",
    "        return max(sum1, sum2)"
   ]
  },
  {
   "cell_type": "code",
   "execution_count": 6,
   "id": "efd73865",
   "metadata": {},
   "outputs": [],
   "source": [
    "nums1, nums2 = [3,2,0,1,0], [6,5,0]\n",
    "sol= Solution()\n",
    "assert sol.minSum(nums1, nums2) == 12\n",
    "nums1, nums2 = [2,0,2,0], [1,4]\n",
    "assert sol.minSum(nums1, nums2) == -1"
   ]
  },
  {
   "cell_type": "code",
   "execution_count": null,
   "id": "49b38b5b",
   "metadata": {},
   "outputs": [],
   "source": []
  },
  {
   "cell_type": "code",
   "execution_count": null,
   "id": "a523785f",
   "metadata": {},
   "outputs": [],
   "source": []
  }
 ],
 "metadata": {
  "kernelspec": {
   "display_name": "leetcode",
   "language": "python",
   "name": "python3"
  },
  "language_info": {
   "codemirror_mode": {
    "name": "ipython",
    "version": 3
   },
   "file_extension": ".py",
   "mimetype": "text/x-python",
   "name": "python",
   "nbconvert_exporter": "python",
   "pygments_lexer": "ipython3",
   "version": "3.12.7"
  }
 },
 "nbformat": 4,
 "nbformat_minor": 5
}
