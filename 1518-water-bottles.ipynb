{
 "cells": [
  {
   "cell_type": "markdown",
   "id": "0ea2a262",
   "metadata": {},
   "source": [
    "### 1518. Water Bottles\n",
    "Easy\n",
    "\n",
    "Hint\n",
    "There are numBottles water bottles that are initially full of water. You can exchange numExchange empty water bottles from the market with one full water bottle.\n",
    "\n",
    "The operation of drinking a full water bottle turns it into an empty bottle.\n",
    "\n",
    "Given the two integers numBottles and numExchange, return the maximum number of water bottles you can drink.\n",
    "\n",
    " \n",
    "\n",
    "Example 1:\n",
    "\n",
    "\n",
    "Input: numBottles = 9, numExchange = 3\n",
    "Output: 13\n",
    "Explanation: You can exchange 3 empty bottles to get 1 full water bottle.\n",
    "Number of water bottles you can drink: 9 + 3 + 1 = 13.\n",
    "Example 2:\n",
    "\n",
    "\n",
    "Input: numBottles = 15, numExchange = 4\n",
    "Output: 19\n",
    "Explanation: You can exchange 4 empty bottles to get 1 full water bottle. \n",
    "Number of water bottles you can drink: 15 + 3 + 1 = 19.\n",
    " \n",
    "\n",
    "Constraints:\n",
    "\n",
    "1 <= numBottles <= 100\n",
    "2 <= numExchange <= 100"
   ]
  },
  {
   "cell_type": "code",
   "execution_count": 1,
   "id": "f5e34d36",
   "metadata": {},
   "outputs": [],
   "source": [
    "#this solves it\n",
    "class Solution:\n",
    "    def numWaterBottles(self, numBottles: int, numExchange: int) -> int:\n",
    "        full = numBottles\n",
    "        while numBottles >= numExchange:\n",
    "            num_extra = numBottles % numExchange\n",
    "            refilled = (numBottles - num_extra) // numExchange\n",
    "            numBottles = num_extra + refilled\n",
    "            full += refilled\n",
    "        return full"
   ]
  },
  {
   "cell_type": "code",
   "execution_count": 2,
   "id": "43348c05",
   "metadata": {},
   "outputs": [],
   "source": [
    "sol = Solution()\n",
    "assert sol.numWaterBottles(9,3) == 13\n",
    "assert sol.numWaterBottles(15, 4) == 19"
   ]
  },
  {
   "cell_type": "code",
   "execution_count": 3,
   "id": "26a194b3",
   "metadata": {},
   "outputs": [],
   "source": [
    "#faster solution using geometric series\n",
    "#sum = a + ar + ar^2... with r=1/numExchange, a = numBottles\n",
    "class Solution:\n",
    "    def numWaterBottles(self, numBottles: int, numExchange: int) -> int:\n",
    "        return numBottles + (numBottles-1)//(numExchange - 1)"
   ]
  },
  {
   "cell_type": "code",
   "execution_count": 4,
   "id": "d1564886",
   "metadata": {},
   "outputs": [],
   "source": [
    "sol = Solution()\n",
    "assert sol.numWaterBottles(9,3) == 13\n",
    "assert sol.numWaterBottles(15, 4) == 19"
   ]
  },
  {
   "cell_type": "code",
   "execution_count": null,
   "id": "ec59d7b9",
   "metadata": {},
   "outputs": [],
   "source": []
  }
 ],
 "metadata": {
  "kernelspec": {
   "display_name": "leetcode",
   "language": "python",
   "name": "python3"
  },
  "language_info": {
   "codemirror_mode": {
    "name": "ipython",
    "version": 3
   },
   "file_extension": ".py",
   "mimetype": "text/x-python",
   "name": "python",
   "nbconvert_exporter": "python",
   "pygments_lexer": "ipython3",
   "version": "3.12.7"
  }
 },
 "nbformat": 4,
 "nbformat_minor": 5
}
