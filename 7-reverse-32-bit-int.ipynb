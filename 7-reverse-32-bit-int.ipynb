{
 "cells": [
  {
   "cell_type": "markdown",
   "metadata": {},
   "source": [
    "## 7. Reverse Integer\n",
    "Medium\n",
    "Topics\n",
    "Companies\n",
    "Given a signed 32-bit integer x, return x with its digits reversed. If reversing x causes the value to go outside the signed 32-bit integer range [-231, 231 - 1], then return 0.\n",
    "\n",
    "Assume the environment does not allow you to store 64-bit integers (signed or unsigned).\n",
    "\n",
    " \n",
    "\n",
    "Example 1:\n",
    "\n",
    "Input: x = 123\n",
    "Output: 321\n",
    "Example 2:\n",
    "\n",
    "Input: x = -123\n",
    "Output: -321\n",
    "Example 3:\n",
    "\n",
    "Input: x = 120\n",
    "Output: 21\n",
    " \n",
    "\n",
    "Constraints:\n",
    "\n",
    "-231 <= x <= 231 - 1"
   ]
  },
  {
   "cell_type": "code",
   "execution_count": 5,
   "metadata": {},
   "outputs": [],
   "source": [
    "# class Solution:\n",
    "#     def reverse(self, x: int) -> int:        "
   ]
  },
  {
   "cell_type": "code",
   "execution_count": 6,
   "metadata": {},
   "outputs": [],
   "source": [
    "#this works, but it allows its to be greater than int32\n",
    "class Solution:\n",
    "    def reverse(self, x: int) -> int:\n",
    "        sign = -1 if x < 0 else 1\n",
    "        x = abs(x)\n",
    "        rev = 0\n",
    "        while x > 0:\n",
    "            dig = x % 10\n",
    "            rev = rev * 10 + dig\n",
    "            x //= 10\n",
    "        rev *= sign\n",
    "        if rev > 2**31 or rev < -2**31:\n",
    "            return 0\n",
    "        return rev"
   ]
  },
  {
   "cell_type": "code",
   "execution_count": 7,
   "metadata": {},
   "outputs": [
    {
     "name": "stdout",
     "output_type": "stream",
     "text": [
      "321\n"
     ]
    }
   ],
   "source": [
    "sol = Solution()\n",
    "x,o = 123, 321\n",
    "print(sol.reverse(123))\n",
    "assert(sol.reverse(x) == o)\n",
    "x,o = -123,-321\n",
    "x,o = 120, 21"
   ]
  },
  {
   "cell_type": "code",
   "execution_count": 8,
   "metadata": {},
   "outputs": [],
   "source": [
    "#Hacky solution\n",
    "class Solution:\n",
    "    def reverse(self, x: int) -> int:  \n",
    "        num = int(('-' if x < 0 else '') + (str(abs(x))[::-1]))\n",
    "        return 0 if x > 2**31 or x < -2**31 else num"
   ]
  },
  {
   "cell_type": "code",
   "execution_count": null,
   "metadata": {},
   "outputs": [],
   "source": []
  }
 ],
 "metadata": {
  "kernelspec": {
   "display_name": "leetcode",
   "language": "python",
   "name": "python3"
  },
  "language_info": {
   "codemirror_mode": {
    "name": "ipython",
    "version": 3
   },
   "file_extension": ".py",
   "mimetype": "text/x-python",
   "name": "python",
   "nbconvert_exporter": "python",
   "pygments_lexer": "ipython3",
   "version": "3.13.0"
  }
 },
 "nbformat": 4,
 "nbformat_minor": 2
}
