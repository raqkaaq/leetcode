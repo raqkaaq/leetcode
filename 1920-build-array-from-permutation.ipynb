{
 "cells": [
  {
   "cell_type": "markdown",
   "id": "7d401c89",
   "metadata": {},
   "source": [
    "### 1920. Build Array from Permutation\n",
    "Easy\n",
    "\n",
    "Hint\n",
    "Given a zero-based permutation nums (0-indexed), build an array ans of the same length where ans[i] = nums[nums[i]] for each 0 <= i < nums.length and return it.\n",
    "\n",
    "A zero-based permutation nums is an array of distinct integers from 0 to nums.length - 1 (inclusive).\n",
    "\n",
    " \n",
    "\n",
    "Example 1:\n",
    "\n",
    "Input: nums = [0,2,1,5,3,4]\n",
    "Output: [0,1,2,4,5,3]\n",
    "Explanation: The array ans is built as follows: \n",
    "ans = [nums[nums[0]], nums[nums[1]], nums[nums[2]], nums[nums[3]], nums[nums[4]], nums[nums[5]]]\n",
    "    = [nums[0], nums[2], nums[1], nums[5], nums[3], nums[4]]\n",
    "    = [0,1,2,4,5,3]\n",
    "Example 2:\n",
    "\n",
    "Input: nums = [5,0,1,2,3,4]\n",
    "Output: [4,5,0,1,2,3]\n",
    "Explanation: The array ans is built as follows:\n",
    "ans = [nums[nums[0]], nums[nums[1]], nums[nums[2]], nums[nums[3]], nums[nums[4]], nums[nums[5]]]\n",
    "    = [nums[5], nums[0], nums[1], nums[2], nums[3], nums[4]]\n",
    "    = [4,5,0,1,2,3]\n",
    " \n",
    "\n",
    "Constraints:\n",
    "\n",
    "1 <= nums.length <= 1000\n",
    "0 <= nums[i] < nums.length\n",
    "The elements in nums are distinct.\n",
    " \n",
    "\n",
    "Follow-up: Can you solve it without using an extra space (i.e., O(1) memory)?"
   ]
  },
  {
   "cell_type": "code",
   "execution_count": 1,
   "id": "0561720b",
   "metadata": {},
   "outputs": [],
   "source": [
    "#this works but uses extra space\n",
    "from typing import List\n",
    "class Solution:\n",
    "    def buildArray(self, nums: List[int]) -> List[int]:\n",
    "        return [nums[nums[i]] for i in range(len(nums))]"
   ]
  },
  {
   "cell_type": "code",
   "execution_count": 2,
   "id": "c7dc212d",
   "metadata": {},
   "outputs": [
    {
     "name": "stdout",
     "output_type": "stream",
     "text": [
      "[0, 1, 2, 4, 5, 3]\n",
      "[4, 5, 0, 1, 2, 3]\n"
     ]
    }
   ],
   "source": [
    "sol = Solution()\n",
    "nums = [0,2,1,5,3,4]\n",
    "print(sol.buildArray(nums))\n",
    "nums = [5,0,1,2,3,4]\n",
    "print(sol.buildArray(nums))"
   ]
  },
  {
   "cell_type": "code",
   "execution_count": 3,
   "id": "9979f439",
   "metadata": {},
   "outputs": [],
   "source": [
    "#this swaps the values of the array without using extra space\n",
    "class Solution:\n",
    "    def buildArray(self, nums: List[int])->List[int]:\n",
    "        n = len(nums)\n",
    "        for i in range(n):\n",
    "            #encode the new value into the array as old + n*new\n",
    "            nums[i] += (nums[nums[i]] % n) * n\n",
    "        for i in range(n):\n",
    "            #get the new by (old + n * new) // n == new\n",
    "            nums[i] //= n\n",
    "        return nums\n"
   ]
  },
  {
   "cell_type": "code",
   "execution_count": 9,
   "id": "9fe98b34",
   "metadata": {},
   "outputs": [],
   "source": [
    "sol = Solution()\n",
    "nums = [0,2,1,5,3,4]\n",
    "assert sol.buildArray(nums) == [0,1,2,4,5,3]\n",
    "nums = [5,0,1,2,3,4]\n",
    "assert sol.buildArray(nums) == [4,5,0,1,2,3]"
   ]
  },
  {
   "cell_type": "code",
   "execution_count": 8,
   "id": "db9b9f06",
   "metadata": {},
   "outputs": [],
   "source": [
    "#better solution?\n",
    "class Solution:\n",
    "    def buildArray(self, nums: List[int])->List[int]:\n",
    "        return [nums[i] for i in nums]"
   ]
  },
  {
   "cell_type": "code",
   "execution_count": null,
   "id": "f84e2423",
   "metadata": {},
   "outputs": [],
   "source": []
  }
 ],
 "metadata": {
  "kernelspec": {
   "display_name": "leetcode",
   "language": "python",
   "name": "python3"
  },
  "language_info": {
   "codemirror_mode": {
    "name": "ipython",
    "version": 3
   },
   "file_extension": ".py",
   "mimetype": "text/x-python",
   "name": "python",
   "nbconvert_exporter": "python",
   "pygments_lexer": "ipython3",
   "version": "3.12.7"
  }
 },
 "nbformat": 4,
 "nbformat_minor": 5
}
