{
 "cells": [
  {
   "cell_type": "markdown",
   "metadata": {
    "vscode": {
     "languageId": "plaintext"
    }
   },
   "source": [
    "## 3. Longest Substring Without Repeating Characters\n",
    "Medium\n",
    "\n",
    "Given a string s, find the length of the longest \n",
    "substring\n",
    " without repeating characters.\n",
    "\n",
    " \n",
    "\n",
    "Example 1:\n",
    "\n",
    "Input: s = \"abcabcbb\"\n",
    "Output: 3\n",
    "Explanation: The answer is \"abc\", with the length of 3.\n",
    "Example 2:\n",
    "\n",
    "Input: s = \"bbbbb\"\n",
    "Output: 1\n",
    "Explanation: The answer is \"b\", with the length of 1.\n",
    "Example 3:\n",
    "\n",
    "Input: s = \"pwwkew\"\n",
    "Output: 3\n",
    "Explanation: The answer is \"wke\", with the length of 3.\n",
    "Notice that the answer must be a substring, \"pwke\" is a subsequence and not a substring.\n",
    " \n",
    "\n",
    "Constraints:\n",
    "\n",
    "0 <= s.length <= 5 * 104\n",
    "s consists of English letters, digits, symbols and spaces."
   ]
  },
  {
   "cell_type": "code",
   "execution_count": 2,
   "metadata": {},
   "outputs": [],
   "source": [
    "# class Solution:\n",
    "#     def lengthOfLongestSubstring(self, s: str) -> int:"
   ]
  },
  {
   "cell_type": "code",
   "execution_count": 137,
   "metadata": {},
   "outputs": [],
   "source": [
    "\n",
    "class Solution:\n",
    "    def lengthOfLongestSubstring(self, s:str) -> int:\n",
    "        sub_start = 0\n",
    "        length = 0\n",
    "        index = {} #store the last known index of each char, updates when finding duplicates\n",
    "        for i, char in enumerate(s): #for every index,char pair in s\n",
    "            if char in index and index[char] >= sub_start: #if there is a duplicate and sub_start doesnt point to the latest one\n",
    "                sub_start = index[char] + 1 #update substart to the latest\n",
    "            else:\n",
    "                #instead of max can add variable k=i-ss + 1, and use l if k > l else l to make it run slightly faster\n",
    "                length = max(length, i - sub_start + 1) #if there is not a duplicate, add 1 to the possible length\n",
    "            index[char] = i #catalog the char, if it didnt exist, add the first instance, if it did, update it to the most recent\n",
    "        return length"
   ]
  },
  {
   "cell_type": "code",
   "execution_count": 138,
   "metadata": {},
   "outputs": [
    {
     "name": "stdout",
     "output_type": "stream",
     "text": [
      "3 3\n",
      "1 1\n",
      "3 3\n",
      "1 1\n",
      "3 3\n",
      "6 6\n"
     ]
    }
   ],
   "source": [
    "sol = Solution()\n",
    "s,ans='abcabcbb',3\n",
    "opt = sol.lengthOfLongestSubstring(s)\n",
    "print(opt,ans)\n",
    "assert(opt == ans)\n",
    "s,ans='bbbbb',1\n",
    "opt = sol.lengthOfLongestSubstring(s)\n",
    "print(opt,ans)\n",
    "assert(opt == ans)\n",
    "s,ans='pwwkew',3\n",
    "opt = sol.lengthOfLongestSubstring(s)\n",
    "print(opt,ans)\n",
    "assert(opt == ans)\n",
    "s,ans = ' ',1\n",
    "opt = sol.lengthOfLongestSubstring(s)\n",
    "print(opt,ans)\n",
    "assert(opt == ans)\n",
    "s,ans = 'dvdf', 3\n",
    "opt = sol.lengthOfLongestSubstring(s)\n",
    "print(opt,ans)\n",
    "assert(opt == ans)\n",
    "s,ans = \"asjrgapa\",6\n",
    "opt = sol.lengthOfLongestSubstring(s)\n",
    "print(opt,ans)\n",
    "assert(opt == ans)\n",
    "\n"
   ]
  },
  {
   "cell_type": "code",
   "execution_count": null,
   "metadata": {},
   "outputs": [],
   "source": []
  },
  {
   "cell_type": "code",
   "execution_count": null,
   "metadata": {},
   "outputs": [],
   "source": []
  }
 ],
 "metadata": {
  "kernelspec": {
   "display_name": "leetcode",
   "language": "python",
   "name": "python3"
  },
  "language_info": {
   "codemirror_mode": {
    "name": "ipython",
    "version": 3
   },
   "file_extension": ".py",
   "mimetype": "text/x-python",
   "name": "python",
   "nbconvert_exporter": "python",
   "pygments_lexer": "ipython3",
   "version": "3.12.7"
  }
 },
 "nbformat": 4,
 "nbformat_minor": 2
}
