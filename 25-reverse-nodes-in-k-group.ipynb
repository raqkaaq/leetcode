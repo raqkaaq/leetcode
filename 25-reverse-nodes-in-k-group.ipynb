{
 "cells": [
  {
   "cell_type": "markdown",
   "metadata": {},
   "source": [
    "### 25. Reverse Nodes in k-Group\n",
    "Hard\n",
    "\n",
    "Given the head of a linked list, reverse the nodes of the list k at a time, and return the modified list.\n",
    "\n",
    "k is a positive integer and is less than or equal to the length of the linked list. If the number of nodes is not a multiple of k then left-out nodes, in the end, should remain as it is.\n",
    "\n",
    "You may not alter the values in the list's nodes, only nodes themselves may be changed.\n",
    "\n",
    " \n",
    "\n",
    "Example 1:\n",
    "\n",
    "\n",
    "Input: head = [1,2,3,4,5], k = 2\n",
    "Output: [2,1,4,3,5]\n",
    "Example 2:\n",
    "\n",
    "\n",
    "Input: head = [1,2,3,4,5], k = 3\n",
    "Output: [3,2,1,4,5]\n",
    " \n",
    "\n",
    "Constraints:\n",
    "\n",
    "The number of nodes in the list is n.\n",
    "1 <= k <= n <= 5000\n",
    "0 <= Node.val <= 1000\n",
    " \n",
    "\n",
    "Follow-up: Can you solve the problem in O(1) extra memory space?"
   ]
  },
  {
   "cell_type": "code",
   "execution_count": null,
   "metadata": {},
   "outputs": [],
   "source": [
    "class ListNode:\n",
    "    def __init__(self, val=0, next=None):\n",
    "        self.val = val\n",
    "        self.next = next\n",
    "    def make(list):\n",
    "        node = ListNode(list[0], None)\n",
    "        head = node\n",
    "        for i in range(1,len(list)):\n",
    "            node.next = ListNode(list[i], None)\n",
    "            node = node.next\n",
    "        return head\n",
    "    def __str__(self):\n",
    "        node = self\n",
    "        stri = '['\n",
    "        while node != None:\n",
    "            stri += str(node.val)\n",
    "            if node.next != None:\n",
    "                stri += ','\n",
    "            node = node.next\n",
    "        stri += ']'\n",
    "        return stri\n",
    "from typing import Optional\n",
    "\n",
    "#works but isnt best\n",
    "class Solution:\n",
    "    def reverseKGroup(self, head: Optional[ListNode], k: int) -> Optional[ListNode]:\n",
    "        #reverse a linked list\n",
    "        def reverse(head: Optional[ListNode]) -> Optional[ListNode]:\n",
    "            prev = next = None\n",
    "            curr = head\n",
    "            tail = head\n",
    "            while curr:\n",
    "                next = curr.next\n",
    "                curr.next = prev\n",
    "                prev = curr\n",
    "                curr = next\n",
    "            return prev, tail\n",
    "        dummy = ListNode(next=head)\n",
    "        ptr = kptr = dummy.next\n",
    "        prev = tail = dummy\n",
    "        while kptr:\n",
    "            for _ in range(k):\n",
    "                #if this is hit, that means there is not k next nodes\n",
    "                if kptr.next == None and _ != k-1:\n",
    "                    return dummy.next\n",
    "                kptr = kptr.next\n",
    "                if tail.next:\n",
    "                    tail = tail.next\n",
    "                #this disconnects the first k nodes from the rest of the nodes\n",
    "                if _ == k - 1:\n",
    "                    tail.next = None\n",
    "            tail, ptr = reverse(ptr)\n",
    "            #reset to next k\n",
    "            prev.next = tail\n",
    "            ptr.next = kptr\n",
    "            prev = tail = ptr\n",
    "            ptr = kptr\n",
    "        return dummy.next\n",
    "\n",
    "#got this from leetcode (not my code)\n",
    "class Solution:\n",
    "    def reverseKGroup(self, head: Optional[ListNode], k: int) -> Optional[ListNode]:\n",
    "        dummy = ListNode(next=head)\n",
    "        grp_prev = dummy\n",
    "        while True:\n",
    "            c, i = grp_prev, k\n",
    "            while c and i > 0:\n",
    "                c = c.next\n",
    "                i -= 1\n",
    "            kth = c\n",
    "            if not kth:\n",
    "                break\n",
    "            grp_next = kth.next\n",
    "            prev, curr = kth.next, grp_prev.next\n",
    "            while curr != grp_next:\n",
    "                curr.next, prev, curr = prev, curr, curr.next\n",
    "            tmp = grp_prev.next\n",
    "            grp_prev.next = kth\n",
    "            grp_prev = tmp\n",
    "        return dummy.next"
   ]
  },
  {
   "cell_type": "code",
   "execution_count": 156,
   "metadata": {},
   "outputs": [
    {
     "name": "stdout",
     "output_type": "stream",
     "text": [
      "[2,1,4,3,5]\n"
     ]
    }
   ],
   "source": [
    "sol = Solution()\n",
    "l = ListNode.make([1,2,3,4,5])\n",
    "print(sol.reverseKGroup(l, 2))"
   ]
  },
  {
   "cell_type": "code",
   "execution_count": 150,
   "metadata": {},
   "outputs": [
    {
     "name": "stdout",
     "output_type": "stream",
     "text": [
      "[2,1]\n"
     ]
    }
   ],
   "source": [
    "l = ListNode.make([1,2])\n",
    "print(sol.reverseKGroup(l, 2))"
   ]
  },
  {
   "cell_type": "code",
   "execution_count": null,
   "metadata": {},
   "outputs": [],
   "source": []
  }
 ],
 "metadata": {
  "kernelspec": {
   "display_name": "leetcode",
   "language": "python",
   "name": "python3"
  },
  "language_info": {
   "codemirror_mode": {
    "name": "ipython",
    "version": 3
   },
   "file_extension": ".py",
   "mimetype": "text/x-python",
   "name": "python",
   "nbconvert_exporter": "python",
   "pygments_lexer": "ipython3",
   "version": "3.13.0"
  }
 },
 "nbformat": 4,
 "nbformat_minor": 2
}
