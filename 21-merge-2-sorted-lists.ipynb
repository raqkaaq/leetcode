{
 "cells": [
  {
   "cell_type": "markdown",
   "metadata": {},
   "source": [
    "### 21. Merge Two Sorted Lists\n",
    "Easy\n",
    "\n",
    "You are given the heads of two sorted linked lists list1 and list2.\n",
    "\n",
    "Merge the two lists into one sorted list. The list should be made by splicing together the nodes of the first two lists.\n",
    "\n",
    "Return the head of the merged linked list.\n",
    "\n",
    " \n",
    "\n",
    "Example 1:\n",
    "\n",
    "\n",
    "Input: list1 = [1,2,4], list2 = [1,3,4]\n",
    "Output: [1,1,2,3,4,4]\n",
    "Example 2:\n",
    "\n",
    "Input: list1 = [], list2 = []\n",
    "Output: []\n",
    "Example 3:\n",
    "\n",
    "Input: list1 = [], list2 = [0]\n",
    "Output: [0]\n",
    " \n",
    "\n",
    "Constraints:\n",
    "\n",
    "The number of nodes in both lists is in the range [0, 50].\n",
    "-100 <= Node.val <= 100\n",
    "Both list1 and list2 are sorted in non-decreasing order."
   ]
  },
  {
   "cell_type": "code",
   "execution_count": null,
   "metadata": {},
   "outputs": [],
   "source": [
    "# Definition for singly-linked list.\n",
    "class ListNode:\n",
    "    def __init__(self, val=0, next=None):\n",
    "        self.val = val\n",
    "        self.next = next\n",
    "    def make(list):\n",
    "        node = ListNode(list[0], None)\n",
    "        head = node\n",
    "        for i in range(1,len(list)):\n",
    "            node.next = ListNode(list[i], None)\n",
    "            node = node.next\n",
    "        return head\n",
    "    def __str__(self):\n",
    "        node = self\n",
    "        stri = '['\n",
    "        while node != None:\n",
    "            stri += str(node.val)\n",
    "            if node.next != None:\n",
    "                stri += ','\n",
    "            node = node.next\n",
    "        stri += ']'\n",
    "        return stri\n",
    "from typing import Optional\n",
    "class Solution:\n",
    "    def mergeTwoLists(self, list1: Optional[ListNode], list2: Optional[ListNode]) -> Optional[ListNode]:\n",
    "        #both strings are sorted, so the approach is to have two pointers, one for l1, the other for l2 that produced a final sorted list\n",
    "        #could create a totally new linked list, or could modify l1 in place\n",
    "        #will make a new list for ease since this is not a complicated project\n",
    "        p1,p2 = list1,list2\n",
    "        dummy = ListNode(0,None)\n",
    "        p3 = dummy\n",
    "        while p1 or p2:\n",
    "            if (p1 and p2 and p1.val <= p2.val) or not p2:\n",
    "                p3.next = ListNode(p1.val, None)\n",
    "                p1 = p1.next\n",
    "            elif (p1 and p2 and p1.val > p2.val) or not p1:\n",
    "                p3.next = ListNode(p2.val, None)\n",
    "                p2 = p2.next\n",
    "            else:\n",
    "                print('Shouldnt have reached here')\n",
    "            p3 = p3.next\n",
    "        return dummy.next\n"
   ]
  },
  {
   "cell_type": "code",
   "execution_count": 8,
   "metadata": {},
   "outputs": [
    {
     "name": "stdout",
     "output_type": "stream",
     "text": [
      "[1,1,2,3,4,4]\n"
     ]
    }
   ],
   "source": [
    "sol = Solution()\n",
    "l1,l2 = ListNode.make([1,2,4]), ListNode.make([1,3,4])\n",
    "print(sol.mergeTwoLists(l1,l2))"
   ]
  },
  {
   "cell_type": "code",
   "execution_count": null,
   "metadata": {},
   "outputs": [],
   "source": []
  }
 ],
 "metadata": {
  "kernelspec": {
   "display_name": "leetcode",
   "language": "python",
   "name": "python3"
  },
  "language_info": {
   "codemirror_mode": {
    "name": "ipython",
    "version": 3
   },
   "file_extension": ".py",
   "mimetype": "text/x-python",
   "name": "python",
   "nbconvert_exporter": "python",
   "pygments_lexer": "ipython3",
   "version": "3.12.7"
  }
 },
 "nbformat": 4,
 "nbformat_minor": 2
}
